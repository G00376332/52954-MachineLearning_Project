{
 "cells": [
  {
   "cell_type": "markdown",
   "metadata": {},
   "source": [
    "# Machine Learning and Statistic Project 2020\n",
    "## Renewable Energy Sources - Prediction of Wind Turbine Power Production"
   ]
  },
  {
   "cell_type": "markdown",
   "metadata": {},
   "source": [
    "* Student Name: **Maciej Burel**\n",
    "* Student ID: G00376332\n",
    "* Lecturer: Dr. Ian McLoughlin"
   ]
  },
  {
   "cell_type": "markdown",
   "metadata": {},
   "source": [
    "***\n",
    "\n",
    "<p align=\"center\"> <img width=\"500\" height=\"400\" src=\"Images/w2.jpg\" alt=\"root\" /> </p>\n",
    "(Image - Wharton, 2015)"
   ]
  },
  {
   "cell_type": "markdown",
   "metadata": {},
   "source": [
    "##  Table of Contents<a id=\"table\"/>\n",
    "***\n",
    "\n",
    "* [Goals and objectives](#goals)\n",
    "* [Introduction](#introduction)\n",
    "* [](#task2)\n",
    "* [](#task3)\n",
    "* [ ](#task4)\n",
    "* [References](#references)"
   ]
  },
  {
   "cell_type": "markdown",
   "metadata": {},
   "source": [
    "## Goals and objectives<a id=\"goals\"/>\n",
    "***"
   ]
  },
  {
   "cell_type": "markdown",
   "metadata": {},
   "source": [
    "* The goal of this project is to produce a model that accurately predicts wind turbine power output from wind speed values, as in the data set powerproduction.csv.\n",
    "* The part of the project is to create a web service that will respond with predicted power values based on speed values sent as HTTP requests.\n",
    "* Research and investigations about wind energy production \n",
    "* Solution and approaching for project task\n",
    "* Implementation and presentation of the project results \n",
    "* Final project should contain following elements:\n",
    "    * Jupyter notebook that trains a model using the data set. In the notebook, it should be explained the model and an analysis of its accuracy.\n",
    "    * Python script that runs a web service based on the model, as above.\n",
    "    * Dockerfile to build and run the web service in a container."
   ]
  },
  {
   "cell_type": "markdown",
   "metadata": {},
   "source": [
    "## Introduction<a id=\"introduction\"/>\n",
    "***"
   ]
  },
  {
   "cell_type": "markdown",
   "metadata": {},
   "source": [
    "### Wind energy production"
   ]
  },
  {
   "cell_type": "markdown",
   "metadata": {},
   "source": [
    "The need to move towards renewable and clean energy sources has increased considerably over the previous years.\n",
    "As the demand for wind power has increased over the last decades, there is a serious need to set up wind farms and construct facilities depending on accurate wind forecasted data. Collected short-term wind forecasting has a significant effect on the electricity [1], which is also necessary to identify the size of wind farms.\n",
    "\n",
    "It is obvious that there is a need for an accurate wind forecasting technique to substantially reduce the cost by wind power scheduling [2]. "
   ]
  },
  {
   "cell_type": "markdown",
   "metadata": {},
   "source": [
    "### How Do Wind Turbines Work?"
   ]
  },
  {
   "cell_type": "markdown",
   "metadata": {},
   "source": [
    "Wind turbine blades rotate when hit by the wind. And this doesn’t have to be a strong wind, either: the blades of most turbines will start turning at a wind speed of 3-5 meters per second, which is a gentle breeze.  \n",
    "\n",
    "It’s this spinning motion that turns a shaft in the nacelle – which is the box-like structure at the top of a wind turbine. A generator built into the nacelle then converts the kinetic energy of the turning shaft into electrical energy. This then passes through a transformer, which steps up the voltage so it can be transported on the National Grid or used by a local site.\n",
    "\n",
    "<p align=\"center\"> <img width=\"500\" height=\"400\" src=\"Images/w3.jpg\" alt=\"root\" /> </p>\n",
    "(Image - Futuren, 2019)\n",
    "\n",
    "Most onshore wind turbines have a capacity of 2-3 megawatts (MW), which can produce over 6 million kilowatt hours (kwh) of electricity every year. That’s enough to meet the electricity demand of around 1,500 average households.\n",
    "\n",
    "Up to a certain level, the faster the wind blows, the more electricity is generated. In fact, when the wind speed doubles, up to eight times more electricity is generated. But if the wind is too strong, turbines will shut themselves down to prevent being damaged.\n",
    "\n",
    "A wind turbine is typically 30-45% efficient – rising to 50% efficient at times of peak wind. If that sounds low to you, remember that if turbines were 100% efficient, the wind would completely drop after going through the turbine.[3]"
   ]
  },
  {
   "cell_type": "markdown",
   "metadata": {},
   "source": [
    "### Wind Power Calculation"
   ]
  },
  {
   "cell_type": "markdown",
   "metadata": {},
   "source": [
    "Wind energy is the kinetic energy of air in motion, also called wind. Total wind energy flowing through an imaginary surface with area A during the time t is:\n",
    "\n",
    "$$E = \\frac{1}{2}mv^2 = \\frac{1}{2}(Avt\\rho)v^2 = \\frac{1}{2}At\\rho v^3$$"
   ]
  },
  {
   "cell_type": "markdown",
   "metadata": {},
   "source": [
    "where ρ is the density of air; v is the wind speed; Avt is the volume of air passing through A (which is considered perpendicular to the direction of the wind); Avtρ is therefore the mass m passing through \"A\". ½ ρv2 is the kinetic energy of the moving air per unit volume.\n",
    "\n",
    "Power is energy per unit time, so the wind power incident on A (e.g. equal to the rotor area of a wind turbine) is [4] :\n",
    "\n",
    "$$P = \\frac{E}{t} = \\frac{1}{2}A\\rho v^3$$ "
   ]
  },
  {
   "cell_type": "markdown",
   "metadata": {},
   "source": [
    "A German physicist Albert Betz concluded in 1919 that no wind turbine can convert more than 16/27 (59.3%) of the kinetic energy of the wind into mechanical energy turning a rotor. To this day, this is known as the Betz Limit or **Betz'Law**. The theoretical maximum power efficiency of any design of wind turbine is 0.59 (i.e. no more than 59% of the energy carried by the wind can be extracted by a wind turbine). This is called the “power coefficient” and is defined as: "
   ]
  },
  {
   "cell_type": "markdown",
   "metadata": {},
   "source": [
    "$$P = C_{Pmax} = 0.59$$ "
   ]
  },
  {
   "cell_type": "markdown",
   "metadata": {},
   "source": [
    "Also, wind turbines cannot operate at this maximum limit. The power coefficient needs to be factored in the equation and the extractable power from the wind is given by[5] :"
   ]
  },
  {
   "cell_type": "markdown",
   "metadata": {},
   "source": [
    "$$P_{avail} = \\frac{1}{2}At\\rho v^3 C_{p}$$"
   ]
  },
  {
   "cell_type": "markdown",
   "metadata": {},
   "source": [
    "### The Power Curve"
   ]
  },
  {
   "cell_type": "markdown",
   "metadata": {},
   "source": [
    "It is important to understand the relationship between power and wind speed to determine the required control type, optimization, or limitation. The power curve, a plot that can be used for this purpose, specifies how much power can be extracted from the incoming wind. The figure below contains an ideal wind turbine power curve."
   ]
  },
  {
   "cell_type": "markdown",
   "metadata": {},
   "source": [
    "<p align=\"center\"> <img width=\"500\" height=\"400\" src=\"Images/powerc.jpg\" alt=\"root\" /> </p>\n",
    "(Image - NI, 2020)"
   ]
  },
  {
   "cell_type": "markdown",
   "metadata": {},
   "source": [
    "It can be seen that the power curve is split into three distinct regions. Because Region I consists of low wind speeds and is below the rated turbine power, the turbine is run at the maximum efficiency to extract all power. In other words, the turbine controls with optimization in mind. On the other hand, Region III consists of high wind speeds and is at the rated turbine power. The turbine then controls with limitation of the generated power in mind when operating in this region. Finally, Region II is a transition region mainly concerned with keeping rotor torque and noise low.[6]"
   ]
  },
  {
   "cell_type": "markdown",
   "metadata": {},
   "source": [
    "## Data Review\n",
    "***"
   ]
  },
  {
   "cell_type": "markdown",
   "metadata": {},
   "source": [
    "To start with the practical part of the project, let's review data from powerproduction.csv file.\n",
    "Firt the all required librarys that will be required for all the tasks in the project will be imported."
   ]
  },
  {
   "cell_type": "code",
   "execution_count": 28,
   "metadata": {},
   "outputs": [],
   "source": [
    "# Import all required librarys\n",
    "import numpy as np \n",
    "import pandas as pd\n",
    "import matplotlib.pyplot as plt\n",
    "\n",
    "from sklearn.linear_model import LinearRegression \n",
    "from sklearn.preprocessing import PolynomialFeatures \n",
    "from sklearn.metrics import mean_squared_error\n",
    "from sklearn.metrics import r2_score\n",
    "from sklearn.model_selection import train_test_split\n",
    "\n",
    "# Neural networks.\n",
    "import tensorflow.keras as kr\n",
    "\n",
    "# Save model to file\n",
    "import joblib\n",
    "\n",
    "# Use magic function to render the figure in a notebook\n",
    "%matplotlib inline"
   ]
  },
  {
   "cell_type": "code",
   "execution_count": 29,
   "metadata": {},
   "outputs": [
    {
     "data": {
      "text/html": [
       "<div>\n",
       "<style scoped>\n",
       "    .dataframe tbody tr th:only-of-type {\n",
       "        vertical-align: middle;\n",
       "    }\n",
       "\n",
       "    .dataframe tbody tr th {\n",
       "        vertical-align: top;\n",
       "    }\n",
       "\n",
       "    .dataframe thead th {\n",
       "        text-align: right;\n",
       "    }\n",
       "</style>\n",
       "<table border=\"1\" class=\"dataframe\">\n",
       "  <thead>\n",
       "    <tr style=\"text-align: right;\">\n",
       "      <th></th>\n",
       "      <th>speed</th>\n",
       "      <th>power</th>\n",
       "    </tr>\n",
       "  </thead>\n",
       "  <tbody>\n",
       "    <tr>\n",
       "      <th>0</th>\n",
       "      <td>0.000</td>\n",
       "      <td>0.000</td>\n",
       "    </tr>\n",
       "    <tr>\n",
       "      <th>1</th>\n",
       "      <td>0.125</td>\n",
       "      <td>0.000</td>\n",
       "    </tr>\n",
       "    <tr>\n",
       "      <th>2</th>\n",
       "      <td>0.150</td>\n",
       "      <td>0.000</td>\n",
       "    </tr>\n",
       "    <tr>\n",
       "      <th>3</th>\n",
       "      <td>0.225</td>\n",
       "      <td>0.000</td>\n",
       "    </tr>\n",
       "    <tr>\n",
       "      <th>4</th>\n",
       "      <td>0.275</td>\n",
       "      <td>0.000</td>\n",
       "    </tr>\n",
       "    <tr>\n",
       "      <th>5</th>\n",
       "      <td>0.325</td>\n",
       "      <td>4.331</td>\n",
       "    </tr>\n",
       "    <tr>\n",
       "      <th>6</th>\n",
       "      <td>0.400</td>\n",
       "      <td>5.186</td>\n",
       "    </tr>\n",
       "    <tr>\n",
       "      <th>7</th>\n",
       "      <td>0.450</td>\n",
       "      <td>3.826</td>\n",
       "    </tr>\n",
       "    <tr>\n",
       "      <th>8</th>\n",
       "      <td>0.501</td>\n",
       "      <td>1.048</td>\n",
       "    </tr>\n",
       "    <tr>\n",
       "      <th>9</th>\n",
       "      <td>0.526</td>\n",
       "      <td>5.553</td>\n",
       "    </tr>\n",
       "  </tbody>\n",
       "</table>\n",
       "</div>"
      ],
      "text/plain": [
       "   speed  power\n",
       "0  0.000  0.000\n",
       "1  0.125  0.000\n",
       "2  0.150  0.000\n",
       "3  0.225  0.000\n",
       "4  0.275  0.000\n",
       "5  0.325  4.331\n",
       "6  0.400  5.186\n",
       "7  0.450  3.826\n",
       "8  0.501  1.048\n",
       "9  0.526  5.553"
      ]
     },
     "execution_count": 29,
     "metadata": {},
     "output_type": "execute_result"
    }
   ],
   "source": [
    "# Load the dataset into the dataframe\n",
    "df = pd.read_csv('Data/powerproduction.csv')\n",
    "# Display first 10 rows of dataset\n",
    "df.head(10)"
   ]
  },
  {
   "cell_type": "code",
   "execution_count": 30,
   "metadata": {},
   "outputs": [
    {
     "data": {
      "text/html": [
       "<div>\n",
       "<style scoped>\n",
       "    .dataframe tbody tr th:only-of-type {\n",
       "        vertical-align: middle;\n",
       "    }\n",
       "\n",
       "    .dataframe tbody tr th {\n",
       "        vertical-align: top;\n",
       "    }\n",
       "\n",
       "    .dataframe thead th {\n",
       "        text-align: right;\n",
       "    }\n",
       "</style>\n",
       "<table border=\"1\" class=\"dataframe\">\n",
       "  <thead>\n",
       "    <tr style=\"text-align: right;\">\n",
       "      <th></th>\n",
       "      <th>speed</th>\n",
       "      <th>power</th>\n",
       "    </tr>\n",
       "  </thead>\n",
       "  <tbody>\n",
       "    <tr>\n",
       "      <th>490</th>\n",
       "      <td>24.499</td>\n",
       "      <td>0.0</td>\n",
       "    </tr>\n",
       "    <tr>\n",
       "      <th>491</th>\n",
       "      <td>24.525</td>\n",
       "      <td>0.0</td>\n",
       "    </tr>\n",
       "    <tr>\n",
       "      <th>492</th>\n",
       "      <td>24.575</td>\n",
       "      <td>0.0</td>\n",
       "    </tr>\n",
       "    <tr>\n",
       "      <th>493</th>\n",
       "      <td>24.650</td>\n",
       "      <td>0.0</td>\n",
       "    </tr>\n",
       "    <tr>\n",
       "      <th>494</th>\n",
       "      <td>24.750</td>\n",
       "      <td>0.0</td>\n",
       "    </tr>\n",
       "    <tr>\n",
       "      <th>495</th>\n",
       "      <td>24.775</td>\n",
       "      <td>0.0</td>\n",
       "    </tr>\n",
       "    <tr>\n",
       "      <th>496</th>\n",
       "      <td>24.850</td>\n",
       "      <td>0.0</td>\n",
       "    </tr>\n",
       "    <tr>\n",
       "      <th>497</th>\n",
       "      <td>24.875</td>\n",
       "      <td>0.0</td>\n",
       "    </tr>\n",
       "    <tr>\n",
       "      <th>498</th>\n",
       "      <td>24.950</td>\n",
       "      <td>0.0</td>\n",
       "    </tr>\n",
       "    <tr>\n",
       "      <th>499</th>\n",
       "      <td>25.000</td>\n",
       "      <td>0.0</td>\n",
       "    </tr>\n",
       "  </tbody>\n",
       "</table>\n",
       "</div>"
      ],
      "text/plain": [
       "      speed  power\n",
       "490  24.499    0.0\n",
       "491  24.525    0.0\n",
       "492  24.575    0.0\n",
       "493  24.650    0.0\n",
       "494  24.750    0.0\n",
       "495  24.775    0.0\n",
       "496  24.850    0.0\n",
       "497  24.875    0.0\n",
       "498  24.950    0.0\n",
       "499  25.000    0.0"
      ]
     },
     "execution_count": 30,
     "metadata": {},
     "output_type": "execute_result"
    }
   ],
   "source": [
    "# Display last 10 rows of dataset\n",
    "df.tail(10)"
   ]
  },
  {
   "cell_type": "markdown",
   "metadata": {},
   "source": [
    "From the above outcome it looks like data set is consistent but as a good practice is worth to check if there are any empty  values before next steps."
   ]
  },
  {
   "cell_type": "code",
   "execution_count": 31,
   "metadata": {},
   "outputs": [
    {
     "data": {
      "text/plain": [
       "0"
      ]
     },
     "execution_count": 31,
     "metadata": {},
     "output_type": "execute_result"
    }
   ],
   "source": [
    "# Total number of missing values.\n",
    "df.isnull().values.sum()"
   ]
  },
  {
   "cell_type": "markdown",
   "metadata": {},
   "source": [
    "There is no empty cels in the data set. \n",
    "\n",
    "Let's take a look at data statistical information. "
   ]
  },
  {
   "cell_type": "code",
   "execution_count": 32,
   "metadata": {},
   "outputs": [
    {
     "data": {
      "text/html": [
       "<div>\n",
       "<style scoped>\n",
       "    .dataframe tbody tr th:only-of-type {\n",
       "        vertical-align: middle;\n",
       "    }\n",
       "\n",
       "    .dataframe tbody tr th {\n",
       "        vertical-align: top;\n",
       "    }\n",
       "\n",
       "    .dataframe thead th {\n",
       "        text-align: right;\n",
       "    }\n",
       "</style>\n",
       "<table border=\"1\" class=\"dataframe\">\n",
       "  <thead>\n",
       "    <tr style=\"text-align: right;\">\n",
       "      <th></th>\n",
       "      <th>speed</th>\n",
       "      <th>power</th>\n",
       "    </tr>\n",
       "  </thead>\n",
       "  <tbody>\n",
       "    <tr>\n",
       "      <th>count</th>\n",
       "      <td>500.000000</td>\n",
       "      <td>500.000000</td>\n",
       "    </tr>\n",
       "    <tr>\n",
       "      <th>mean</th>\n",
       "      <td>12.590398</td>\n",
       "      <td>48.014584</td>\n",
       "    </tr>\n",
       "    <tr>\n",
       "      <th>std</th>\n",
       "      <td>7.224991</td>\n",
       "      <td>41.614572</td>\n",
       "    </tr>\n",
       "    <tr>\n",
       "      <th>min</th>\n",
       "      <td>0.000000</td>\n",
       "      <td>0.000000</td>\n",
       "    </tr>\n",
       "    <tr>\n",
       "      <th>25%</th>\n",
       "      <td>6.324750</td>\n",
       "      <td>5.288000</td>\n",
       "    </tr>\n",
       "    <tr>\n",
       "      <th>50%</th>\n",
       "      <td>12.550500</td>\n",
       "      <td>41.645500</td>\n",
       "    </tr>\n",
       "    <tr>\n",
       "      <th>75%</th>\n",
       "      <td>18.775250</td>\n",
       "      <td>93.537000</td>\n",
       "    </tr>\n",
       "    <tr>\n",
       "      <th>max</th>\n",
       "      <td>25.000000</td>\n",
       "      <td>113.556000</td>\n",
       "    </tr>\n",
       "  </tbody>\n",
       "</table>\n",
       "</div>"
      ],
      "text/plain": [
       "            speed       power\n",
       "count  500.000000  500.000000\n",
       "mean    12.590398   48.014584\n",
       "std      7.224991   41.614572\n",
       "min      0.000000    0.000000\n",
       "25%      6.324750    5.288000\n",
       "50%     12.550500   41.645500\n",
       "75%     18.775250   93.537000\n",
       "max     25.000000  113.556000"
      ]
     },
     "execution_count": 32,
     "metadata": {},
     "output_type": "execute_result"
    }
   ],
   "source": [
    "# Display statistical info of dataset\n",
    "df.describe()"
   ]
  },
  {
   "cell_type": "markdown",
   "metadata": {},
   "source": [
    "The basic information about powerproduction data set revieled that we have two colums of data speed and power which contains 500 samples. There are no units for those data, however based on the information from the first paragraph we can assume that speed of the wind is in m/s. Power is most probably in MW for wind farm as one standard wind turbine can produce by avarge 2.5-3 MW. Speed can varry from 0 to 25 and the power from 0 to 133.56.\n",
    "The next logical step is to visualize those data."
   ]
  },
  {
   "cell_type": "code",
   "execution_count": 33,
   "metadata": {},
   "outputs": [
    {
     "data": {
      "image/png": "[encoded data removed]",
      "text/plain": [
       "<Figure size 1152x576 with 1 Axes>"
      ]
     },
     "metadata": {
      "needs_background": "light"
     },
     "output_type": "display_data"
    }
   ],
   "source": [
    "# Sets a plot style \n",
    "# Define chart size\n",
    "plt.figure(figsize=(16,8))\n",
    "# Add grid lines\n",
    "plt.grid(True)\n",
    "# Add title to the chart\n",
    "plt.title(\"Visualization of the Power Production Data\", fontweight=\"bold\", fontsize=20)\n",
    "# # Add x lable to the chart\n",
    "plt.xlabel('Speed', size=16)\n",
    "# Add y lable to the chart\n",
    "plt.ylabel('Power', size=16)\n",
    "# Plot and show data \n",
    "plt.plot(df.speed, df.power, '.g')\n",
    "plt.show()"
   ]
  },
  {
   "cell_type": "markdown",
   "metadata": {},
   "source": [
    "The graph shows that the power production by turbine increase significantly when wind speed is above 7 m/s up to 17 m/s where start to stabilize. There are a few instances where wind speed is high and the power outcome is 0. We can only guess that most probably wind turbine was in idle mode for maintenance.\n",
    "As a next the data should go through the preprocessing step."
   ]
  },
  {
   "cell_type": "markdown",
   "metadata": {},
   "source": [
    "### Data Preprocessing"
   ]
  },
  {
   "cell_type": "markdown",
   "metadata": {},
   "source": [
    "Data Preparation is one of the indispensable steps in any Machine Learning development life cycle.[7] Pre-processing refers to the transformations applied to our data before feeding it to the algorithm. Data Preprocessing is a technique that is used to convert the raw data into a clean data set. In other words, whenever the data is gathered from different sources it is collected in raw format which is not feasible for the analysis. For achieving better results from the applied model in Machine Learning projects the format of the data has to be in a proper manner. Some specified Machine Learning model needs information in a specified format, for example, Random Forest algorithm does not support null values, therefore to execute random forest algorithm null values have to be managed from the original raw data set.\n",
    "Another aspect is that data set should be formatted in such a way that more than one Machine Learning and Deep Learning algorithms are executed in one data set, and best out of them is chosen.[8] \n",
    "\n",
    "In our case as shown on the graph we have to remove outliers where wind turbine was not working and the power output was 0. "
   ]
  },
  {
   "cell_type": "code",
   "execution_count": 34,
   "metadata": {},
   "outputs": [
    {
     "data": {
      "image/png": "[encoded data removed]",
      "text/plain": [
       "<Figure size 1152x576 with 1 Axes>"
      ]
     },
     "metadata": {
      "needs_background": "light"
     },
     "output_type": "display_data"
    }
   ],
   "source": [
    "# Clean data from outliers and zero values\n",
    "df_clean = df[df.power != 0]\n",
    "# Display new clean dataset\n",
    "\n",
    "# Define chart size\n",
    "plt.figure(figsize=(16,8))\n",
    "# Add grid lines\n",
    "plt.grid(True)\n",
    "# Add title to the chart\n",
    "plt.title(\"Visualization of the Clean Power Production Data\", fontweight=\"bold\", fontsize=20)\n",
    "# # Add x lable to the chart\n",
    "plt.xlabel('Speed', size=16)\n",
    "# Add y lable to the chart\n",
    "plt.ylabel('Power', size=16)\n",
    "# Plot and show data \n",
    "plt.plot(df_clean.speed, df_clean.power, '.g')\n",
    "plt.show()"
   ]
  },
  {
   "cell_type": "markdown",
   "metadata": {},
   "source": [
    "## Researching Models\n",
    "***"
   ]
  },
  {
   "cell_type": "markdown",
   "metadata": {},
   "source": [
    "There are many models available in machine learning that fit this purpose better or worse. By looking at the shape of the given data I will focus on regression models. In regression models, the output is continuous. "
   ]
  },
  {
   "cell_type": "markdown",
   "metadata": {},
   "source": [
    "Polynomial Regression is a form of linear regression in which the relationship between the independent variable x and dependent variable y is modeled as an nth degree polynomial. Polynomial regression fits a nonlinear relationship between the value of x and the corresponding conditional mean of y, denoted E(y |x).\n",
    "\n",
    "The basic goal of regression analysis is to model the expected value of a dependent variable y in terms of the value of an independent variable x. In simple regression, we used following equation:\n",
    "\n",
    "$$y = a +bx + e$$\n",
    "\n",
    "Here y is dependent variable, a is y intercept, b is the slope and e is the error rate.[9]"
   ]
  },
  {
   "cell_type": "markdown",
   "metadata": {},
   "source": [
    "First let's divide dataset into two components that is speed and power."
   ]
  },
  {
   "cell_type": "code",
   "execution_count": 35,
   "metadata": {},
   "outputs": [],
   "source": [
    "# Divide dataset into two components\n",
    "speed = df_clean.iloc[:, 0].values.reshape(-1,1)\n",
    "power = df_clean.iloc[:, 1].values.reshape(-1,1)"
   ]
  },
  {
   "cell_type": "markdown",
   "metadata": {},
   "source": [
    "We can now use function train_test_split from scikit-learn that will split our data into random train and test subsets.\n",
    "Test size floating number represents the proportion of the dataset to include in the test split."
   ]
  },
  {
   "cell_type": "code",
   "execution_count": 36,
   "metadata": {},
   "outputs": [],
   "source": [
    "# Split data to train and test with test_size=0.3\n",
    "speed_train, speed_test, power_train, power_test = train_test_split(speed, power, test_size=0.3, random_state=1)"
   ]
  },
  {
   "cell_type": "markdown",
   "metadata": {},
   "source": [
    "#### Build the model"
   ]
  },
  {
   "cell_type": "markdown",
   "metadata": {},
   "source": [
    "Now we can fit the Polynomial Regression model on our components."
   ]
  },
  {
   "cell_type": "code",
   "execution_count": 37,
   "metadata": {},
   "outputs": [],
   "source": [
    "# Fitting the Polynomial Regression model on two components speed and power.\n",
    "# The “degree” argument controls the number of features created\n",
    "# After few tries degree from 5 start produce satisfying results.\n",
    "poly = PolynomialFeatures(degree = 10)\n",
    "s_train_poly = poly.fit_transform(speed_train)\n",
    "# Use linear regression as model on the power train values\n",
    "m1 = LinearRegression()\n",
    "m1.fit(s_train_poly, power_train)\n",
    "\n",
    "# Create predicted model\n",
    "pwr_train_predicted = m1.predict(s_train_poly)"
   ]
  },
  {
   "cell_type": "markdown",
   "metadata": {},
   "source": [
    "#### Check model prediction"
   ]
  },
  {
   "cell_type": "code",
   "execution_count": 38,
   "metadata": {},
   "outputs": [
    {
     "name": "stdout",
     "output_type": "stream",
     "text": [
      "For wind speed [[10.36]] actual power is: [[28.181]]\n",
      "For wind speed [[10.36]] predicted power is: [[22.62187763]]\n",
      "\n",
      "For wind speed [[12.262]] actual power is: [[46.136]]\n",
      "For wind speed [[12.262]] predicted power is: [[44.57934953]]\n",
      "\n",
      "For wind speed [[6.682]] actual power is: [[10.044]]\n",
      "For wind speed [[6.682]] predicted power is: [[5.79936887]]\n",
      "\n",
      "For wind speed [[7.407]] actual power is: [[3.122]]\n",
      "For wind speed [[7.407]] predicted power is: [[6.63616654]]\n",
      "\n"
     ]
    }
   ],
   "source": [
    "for i in range (4):\n",
    "    index = np.random.choice(speed_train.shape[0], 1, replace=False)\n",
    "    s = speed_train[index]\n",
    "    p = power_train[index]\n",
    "    print(f\"For wind speed {s} actual power is: {p}\")\n",
    "    print(f\"For wind speed {s} predicted power is: {m1.predict(poly.fit_transform(s))}\\n\")"
   ]
  },
  {
   "cell_type": "markdown",
   "metadata": {},
   "source": [
    "#### Visualize data"
   ]
  },
  {
   "cell_type": "markdown",
   "metadata": {},
   "source": [
    "We can now plot the prediction on both train and test data."
   ]
  },
  {
   "cell_type": "code",
   "execution_count": 39,
   "metadata": {},
   "outputs": [
    {
     "data": {
      "image/png": "[encoded data removed]",
      "text/plain": [
       "<Figure size 1152x576 with 1 Axes>"
      ]
     },
     "metadata": {
      "needs_background": "light"
     },
     "output_type": "display_data"
    }
   ],
   "source": [
    "# Define chart size\n",
    "plt.figure(figsize=(16,8))\n",
    "# Add grid lines\n",
    "plt.grid(True)\n",
    "# Add title to the chart\n",
    "plt.title(\"Polynomial Regression Preditions - Training Data\", fontweight=\"bold\", fontsize=20)\n",
    "# # Add x lable to the chart\n",
    "plt.xlabel('Speed', size=16)\n",
    "# Add y lable to the chart\n",
    "plt.ylabel('Power', size=16)\n",
    "# Plot and show data \n",
    "plt.plot(speed_train, power_train, '.g', label='Training data')\n",
    "plt.plot(speed_train, pwr_train_predicted, 'r.', label='Model prediction')\n",
    "plt.legend(loc='best')\n",
    "plt.show()"
   ]
  },
  {
   "cell_type": "markdown",
   "metadata": {},
   "source": [
    "Prepare and plot the model on the test data."
   ]
  },
  {
   "cell_type": "code",
   "execution_count": 40,
   "metadata": {},
   "outputs": [],
   "source": [
    "s_test_poly = poly.fit_transform(speed_test)\n",
    "# Use linear regression as model on the power train values\n",
    "m2 = LinearRegression()\n",
    "m2.fit(s_test_poly, power_test)\n",
    "\n",
    "# Create predicted model\n",
    "pwr_test_predicted = m2.predict(s_test_poly)"
   ]
  },
  {
   "cell_type": "code",
   "execution_count": 41,
   "metadata": {},
   "outputs": [
    {
     "data": {
      "image/png": "[encoded data removed]",
      "text/plain": [
       "<Figure size 1152x576 with 1 Axes>"
      ]
     },
     "metadata": {
      "needs_background": "light"
     },
     "output_type": "display_data"
    }
   ],
   "source": [
    "# Define chart size\n",
    "plt.figure(figsize=(16,8))\n",
    "# Add grid lines\n",
    "plt.grid(True)\n",
    "# Add title to the chart\n",
    "plt.title(\"Polynomial Regression Preditions - Testing Data\", fontweight=\"bold\", fontsize=20)\n",
    "# # Add x lable to the chart\n",
    "plt.xlabel('Speed', size=16)\n",
    "# Add y lable to the chart\n",
    "plt.ylabel('Power', size=16)\n",
    "# Plot and show data \n",
    "plt.plot(speed_test, power_test, '.g', label='Testing data')\n",
    "plt.plot(speed_test, pwr_test_predicted, 'r.', label='Model prediction')\n",
    "plt.legend(loc='best')\n",
    "plt.show()"
   ]
  },
  {
   "cell_type": "markdown",
   "metadata": {},
   "source": [
    "The above graphs show that the prediction model is performing quite well."
   ]
  },
  {
   "cell_type": "markdown",
   "metadata": {},
   "source": [
    "#### Error evaluation"
   ]
  },
  {
   "cell_type": "markdown",
   "metadata": {},
   "source": [
    "To assess the accuracy of this regression model the calculation of RMSE and R-squared will be used."
   ]
  },
  {
   "cell_type": "code",
   "execution_count": 42,
   "metadata": {},
   "outputs": [
    {
     "name": "stdout",
     "output_type": "stream",
     "text": [
      "\n",
      "Testing Data\n",
      "RMSE: 3.72\n",
      "R-squared: 0.99\n"
     ]
    }
   ],
   "source": [
    "# Calculate and display RMSE and R2\n",
    "print(\"\\nTesting Data\")\n",
    "print(\"RMSE: %.2f\"% np.sqrt(mean_squared_error(power_test, pwr_test_predicted)))\n",
    "print(\"R-squared: %.2f\"% r2_score(power_test, pwr_test_predicted))"
   ]
  },
  {
   "cell_type": "markdown",
   "metadata": {},
   "source": [
    "R-squared is a statistical measure of how close the data are to the fitted regression line. It is also known as the coefficient of determination, or the coefficient of multiple determination for multiple regression.\n",
    "\n",
    "R-squared is always between 0 and 100%:\n",
    "\n",
    "* 0% indicates that the model explains none of the variability of the response data around its mean.\n",
    "* 100% indicates that the model explains all the variability of the response data around its mean.\n",
    "\n",
    "In general (simplifying), the higher the R-squared, the better the model fits the data.[11]\n",
    "\n",
    "Root Mean Squared Error (RMSE) can range between 0 and infinity. Lower values are better.\n",
    "\n",
    "From the above, we can say that our model performs quite well."
   ]
  },
  {
   "cell_type": "markdown",
   "metadata": {},
   "source": [
    "#### Saving model"
   ]
  },
  {
   "cell_type": "code",
   "execution_count": 25,
   "metadata": {},
   "outputs": [
    {
     "data": {
      "text/plain": [
       "['poly.sav']"
      ]
     },
     "execution_count": 25,
     "metadata": {},
     "output_type": "execute_result"
    }
   ],
   "source": [
    "#https://machinelearningmastery.com/save-load-machine-learning-models-python-scikit-learn/\n",
    "# save the model to disk\n",
    "filename = 'poly.sav'\n",
    "joblib.dump(m1, filename)"
   ]
  },
  {
   "cell_type": "code",
   "execution_count": 26,
   "metadata": {},
   "outputs": [
    {
     "name": "stdout",
     "output_type": "stream",
     "text": [
      "[[41.24920791]]\n"
     ]
    }
   ],
   "source": [
    "# load the model from disk\n",
    "m_loaded = joblib.load(filename)\n",
    "# Test if model works\n",
    "windspeed = 12\n",
    "wsF, poF = 25, 120\n",
    "ws = np.array([windspeed])\n",
    "result = m_loaded.predict(poly.fit_transform([ws]))\n",
    "print(result)"
   ]
  },
  {
   "cell_type": "markdown",
   "metadata": {},
   "source": [
    "### Regression-based Neural Networks"
   ]
  },
  {
   "cell_type": "markdown",
   "metadata": {},
   "source": [
    "A neural network is a computational system that creates predictions based on existing data.\n",
    "A neural network consists of:\n",
    "\n",
    "* Input layers: Layers that take inputs based on existing data\n",
    "* Hidden layers: Layers that use backpropagation to optimise the weights of the input variables in order to improve the predictive power of the model\n",
    "* Output layers: Output of predictions based on the data from the input and hidden layers"
   ]
  },
  {
   "cell_type": "markdown",
   "metadata": {},
   "source": [
    "<p align=\"center\"> <img width=\"500\" height=\"400\" src=\"Images/nn.jpg\" alt=\"root\" /> </p>\n",
    "(Image - towardsdatascience, 2020)"
   ]
  },
  {
   "cell_type": "markdown",
   "metadata": {},
   "source": [
    "One of the most important considerations when training a neural network is choosing the number of neurons to include in the input and hidden layers.[10] "
   ]
  },
  {
   "cell_type": "markdown",
   "metadata": {},
   "source": [
    "We will use Tensorflow module for this job which was already imported at the beginning in the libraries section. "
   ]
  },
  {
   "cell_type": "code",
   "execution_count": 43,
   "metadata": {},
   "outputs": [],
   "source": [
    "# Reuse reshaped data prepared for previous model\n",
    "speed = df_clean.iloc[:, 0].values.reshape(-1,1)\n",
    "power = df_clean.iloc[:, 1].values.reshape(-1,1)\n",
    "\n",
    "# Split data to train and test with test_size=0.3\n",
    "speed_train, speed_test, power_train, power_test = train_test_split(speed, power, test_size=0.3, random_state=1)"
   ]
  },
  {
   "cell_type": "code",
   "execution_count": 44,
   "metadata": {},
   "outputs": [
    {
     "name": "stdout",
     "output_type": "stream",
     "text": [
      "WARNING:tensorflow:From C:\\Users\\Boss\\Anaconda3\\lib\\site-packages\\tensorflow_core\\python\\ops\\resource_variable_ops.py:1630: calling BaseResourceVariable.__init__ (from tensorflow.python.ops.resource_variable_ops) with constraint is deprecated and will be removed in a future version.\n",
      "Instructions for updating:\n",
      "If using Keras pass *_constraint arguments to layers.\n"
     ]
    }
   ],
   "source": [
    "#https://github.com/ianmcloughlin/jupyter-teaching-notebooks/blob/master/keras-neurons.ipynb\n",
    "# Create a new neural network.\n",
    "m3 = kr.models.Sequential()\n",
    "\n",
    "# Add multiple layers\n",
    "m3.add(kr.layers.Dense(10, input_shape=(1,), activation=\"sigmoid\", kernel_initializer=\"glorot_uniform\", bias_initializer=\"glorot_uniform\"))\n",
    "m3.add(kr.layers.Dense(20, input_shape=(1,), activation=\"sigmoid\", kernel_initializer=\"glorot_uniform\", bias_initializer=\"glorot_uniform\"))\n",
    "m3.add(kr.layers.Dense(1, activation='linear', kernel_initializer=\"glorot_uniform\", bias_initializer=\"glorot_uniform\"))\n",
    "# Compile the model.\n",
    "m3.compile(loss=\"mean_squared_error\", optimizer=\"adam\")\n"
   ]
  },
  {
   "cell_type": "code",
   "execution_count": 45,
   "metadata": {},
   "outputs": [
    {
     "name": "stdout",
     "output_type": "stream",
     "text": [
      "Train on 315 samples\n",
      "Epoch 1/500\n",
      "315/315 [==============================] - 0s 2ms/sample - loss: 4191.0016\n",
      "Epoch 2/500\n",
      "315/315 [==============================] - 0s 251us/sample - loss: 4129.1378\n",
      "Epoch 3/500\n",
      "315/315 [==============================] - 0s 244us/sample - loss: 4055.7183\n",
      "Epoch 4/500\n",
      "315/315 [==============================] - 0s 286us/sample - loss: 3970.4082\n",
      "Epoch 5/500\n",
      "315/315 [==============================] - 0s 270us/sample - loss: 3880.4383\n",
      "Epoch 6/500\n",
      "315/315 [==============================] - 0s 321us/sample - loss: 3801.8924\n",
      "Epoch 7/500\n",
      "315/315 [==============================] - 0s 251us/sample - loss: 3739.3552\n",
      "Epoch 8/500\n",
      "315/315 [==============================] - 0s 238us/sample - loss: 3685.1320\n",
      "Epoch 9/500\n",
      "315/315 [==============================] - 0s 235us/sample - loss: 3637.5032\n",
      "Epoch 10/500\n",
      "315/315 [==============================] - 0s 244us/sample - loss: 3593.1366\n",
      "Epoch 11/500\n",
      "315/315 [==============================] - 0s 238us/sample - loss: 3552.3498\n",
      "Epoch 12/500\n",
      "315/315 [==============================] - 0s 229us/sample - loss: 3512.6551\n",
      "Epoch 13/500\n",
      "315/315 [==============================] - 0s 270us/sample - loss: 3475.3597\n",
      "Epoch 14/500\n",
      "315/315 [==============================] - 0s 251us/sample - loss: 3437.9593\n",
      "Epoch 15/500\n",
      "315/315 [==============================] - 0s 283us/sample - loss: 3402.0879\n",
      "Epoch 16/500\n",
      "315/315 [==============================] - 0s 267us/sample - loss: 3365.0932\n",
      "Epoch 17/500\n",
      "315/315 [==============================] - 0s 308us/sample - loss: 3326.5138\n",
      "Epoch 18/500\n",
      "315/315 [==============================] - 0s 276us/sample - loss: 3287.7795\n",
      "Epoch 19/500\n",
      "315/315 [==============================] - 0s 276us/sample - loss: 3249.5044\n",
      "Epoch 20/500\n",
      "315/315 [==============================] - 0s 276us/sample - loss: 3213.0954\n",
      "Epoch 21/500\n",
      "315/315 [==============================] - 0s 273us/sample - loss: 3177.2792\n",
      "Epoch 22/500\n",
      "315/315 [==============================] - 0s 279us/sample - loss: 3142.2717\n",
      "Epoch 23/500\n",
      "315/315 [==============================] - 0s 371us/sample - loss: 3105.6476\n",
      "Epoch 24/500\n",
      "315/315 [==============================] - 0s 238us/sample - loss: 3068.6253\n",
      "Epoch 25/500\n",
      "315/315 [==============================] - 0s 232us/sample - loss: 3031.5000\n",
      "Epoch 26/500\n",
      "315/315 [==============================] - 0s 283us/sample - loss: 2996.1900\n",
      "Epoch 27/500\n",
      "315/315 [==============================] - 0s 263us/sample - loss: 2962.1760\n",
      "Epoch 28/500\n",
      "315/315 [==============================] - 0s 286us/sample - loss: 2928.9564\n",
      "Epoch 29/500\n",
      "315/315 [==============================] - 0s 260us/sample - loss: 2896.6314\n",
      "Epoch 30/500\n",
      "315/315 [==============================] - 0s 270us/sample - loss: 2863.5883\n",
      "Epoch 31/500\n",
      "315/315 [==============================] - 0s 295us/sample - loss: 2830.8670\n",
      "Epoch 32/500\n",
      "315/315 [==============================] - 0s 365us/sample - loss: 2797.0428\n",
      "Epoch 33/500\n",
      "315/315 [==============================] - 0s 289us/sample - loss: 2762.4802\n",
      "Epoch 34/500\n",
      "315/315 [==============================] - 0s 260us/sample - loss: 2729.5038\n",
      "Epoch 35/500\n",
      "315/315 [==============================] - 0s 352us/sample - loss: 2698.0065\n",
      "Epoch 36/500\n",
      "315/315 [==============================] - 0s 235us/sample - loss: 2667.9297\n",
      "Epoch 37/500\n",
      "315/315 [==============================] - 0s 254us/sample - loss: 2638.6637\n",
      "Epoch 38/500\n",
      "315/315 [==============================] - 0s 298us/sample - loss: 2610.4866\n",
      "Epoch 39/500\n",
      "315/315 [==============================] - 0s 263us/sample - loss: 2582.9310\n",
      "Epoch 40/500\n",
      "315/315 [==============================] - 0s 270us/sample - loss: 2556.0283\n",
      "Epoch 41/500\n",
      "315/315 [==============================] - 0s 244us/sample - loss: 2529.4042\n",
      "Epoch 42/500\n",
      "315/315 [==============================] - 0s 238us/sample - loss: 2503.5001\n",
      "Epoch 43/500\n",
      "315/315 [==============================] - 0s 270us/sample - loss: 2477.4704\n",
      "Epoch 44/500\n",
      "315/315 [==============================] - 0s 235us/sample - loss: 2451.5879\n",
      "Epoch 45/500\n",
      "315/315 [==============================] - 0s 229us/sample - loss: 2425.8575\n",
      "Epoch 46/500\n",
      "315/315 [==============================] - 0s 229us/sample - loss: 2399.5422\n",
      "Epoch 47/500\n",
      "315/315 [==============================] - 0s 279us/sample - loss: 2372.6617\n",
      "Epoch 48/500\n",
      "315/315 [==============================] - 0s 263us/sample - loss: 2345.4538\n",
      "Epoch 49/500\n",
      "315/315 [==============================] - 0s 260us/sample - loss: 2318.2174\n",
      "Epoch 50/500\n",
      "315/315 [==============================] - 0s 257us/sample - loss: 2290.5295\n",
      "Epoch 51/500\n",
      "315/315 [==============================] - 0s 244us/sample - loss: 2262.1084\n",
      "Epoch 52/500\n",
      "315/315 [==============================] - 0s 251us/sample - loss: 2234.9144\n",
      "Epoch 53/500\n",
      "315/315 [==============================] - 0s 283us/sample - loss: 2206.5062\n",
      "Epoch 54/500\n",
      "315/315 [==============================] - 0s 197us/sample - loss: 2178.5417\n",
      "Epoch 55/500\n",
      "315/315 [==============================] - 0s 429us/sample - loss: 2150.8853\n",
      "Epoch 56/500\n",
      "315/315 [==============================] - 0s 225us/sample - loss: 2123.0587\n",
      "Epoch 57/500\n",
      "315/315 [==============================] - 0s 273us/sample - loss: 2095.6147\n",
      "Epoch 58/500\n",
      "315/315 [==============================] - 0s 254us/sample - loss: 2068.1982\n",
      "Epoch 59/500\n",
      "315/315 [==============================] - 0s 302us/sample - loss: 2040.8575\n",
      "Epoch 60/500\n",
      "315/315 [==============================] - 0s 248us/sample - loss: 2013.9388\n",
      "Epoch 61/500\n",
      "315/315 [==============================] - 0s 232us/sample - loss: 1987.1617\n",
      "Epoch 62/500\n",
      "315/315 [==============================] - 0s 222us/sample - loss: 1960.0411\n",
      "Epoch 63/500\n",
      "315/315 [==============================] - 0s 235us/sample - loss: 1933.9963\n",
      "Epoch 64/500\n",
      "315/315 [==============================] - 0s 324us/sample - loss: 1908.0328\n",
      "Epoch 65/500\n",
      "315/315 [==============================] - 0s 279us/sample - loss: 1881.5053\n",
      "Epoch 66/500\n",
      "315/315 [==============================] - 0s 248us/sample - loss: 1856.4029\n",
      "Epoch 67/500\n",
      "315/315 [==============================] - 0s 289us/sample - loss: 1830.4130\n",
      "Epoch 68/500\n",
      "315/315 [==============================] - 0s 260us/sample - loss: 1805.1127\n",
      "Epoch 69/500\n",
      "315/315 [==============================] - 0s 254us/sample - loss: 1780.4418\n",
      "Epoch 70/500\n",
      "315/315 [==============================] - 0s 238us/sample - loss: 1755.1846\n",
      "Epoch 71/500\n",
      "315/315 [==============================] - 0s 254us/sample - loss: 1730.3025\n",
      "Epoch 72/500\n",
      "315/315 [==============================] - 0s 238us/sample - loss: 1705.2875\n",
      "Epoch 73/500\n",
      "315/315 [==============================] - 0s 254us/sample - loss: 1679.6592\n",
      "Epoch 74/500\n",
      "315/315 [==============================] - 0s 241us/sample - loss: 1650.8857\n",
      "Epoch 75/500\n",
      "315/315 [==============================] - 0s 267us/sample - loss: 1618.4682\n",
      "Epoch 76/500\n",
      "315/315 [==============================] - 0s 263us/sample - loss: 1585.6894\n",
      "Epoch 77/500\n",
      "315/315 [==============================] - 0s 238us/sample - loss: 1551.8124\n",
      "Epoch 78/500\n",
      "315/315 [==============================] - 0s 267us/sample - loss: 1518.8213\n",
      "Epoch 79/500\n",
      "315/315 [==============================] - 0s 273us/sample - loss: 1487.2284\n",
      "Epoch 80/500\n",
      "315/315 [==============================] - 0s 324us/sample - loss: 1456.5210\n",
      "Epoch 81/500\n",
      "315/315 [==============================] - 0s 276us/sample - loss: 1428.0940\n",
      "Epoch 82/500\n",
      "315/315 [==============================] - 0s 241us/sample - loss: 1400.2467\n",
      "Epoch 83/500\n",
      "315/315 [==============================] - 0s 257us/sample - loss: 1373.0938\n",
      "Epoch 84/500\n",
      "315/315 [==============================] - 0s 244us/sample - loss: 1347.4642\n",
      "Epoch 85/500\n",
      "315/315 [==============================] - 0s 279us/sample - loss: 1322.2845\n",
      "Epoch 86/500\n",
      "315/315 [==============================] - 0s 244us/sample - loss: 1297.0803\n",
      "Epoch 87/500\n",
      "315/315 [==============================] - 0s 289us/sample - loss: 1273.3667\n",
      "Epoch 88/500\n",
      "315/315 [==============================] - 0s 257us/sample - loss: 1249.9432\n",
      "Epoch 89/500\n",
      "315/315 [==============================] - 0s 251us/sample - loss: 1226.6541\n",
      "Epoch 90/500\n",
      "315/315 [==============================] - 0s 254us/sample - loss: 1203.9604\n",
      "Epoch 91/500\n",
      "315/315 [==============================] - 0s 270us/sample - loss: 1182.2519\n"
     ]
    },
    {
     "name": "stdout",
     "output_type": "stream",
     "text": [
      "Epoch 92/500\n",
      "315/315 [==============================] - 0s 270us/sample - loss: 1160.5815\n",
      "Epoch 93/500\n",
      "315/315 [==============================] - 0s 213us/sample - loss: 1139.3566\n",
      "Epoch 94/500\n",
      "315/315 [==============================] - 0s 213us/sample - loss: 1118.4319\n",
      "Epoch 95/500\n",
      "315/315 [==============================] - 0s 210us/sample - loss: 1097.6266\n",
      "Epoch 96/500\n",
      "315/315 [==============================] - 0s 197us/sample - loss: 1078.1539\n",
      "Epoch 97/500\n",
      "315/315 [==============================] - 0s 168us/sample - loss: 1057.7608\n",
      "Epoch 98/500\n",
      "315/315 [==============================] - 0s 213us/sample - loss: 1038.3243\n",
      "Epoch 99/500\n",
      "315/315 [==============================] - 0s 222us/sample - loss: 1019.1035\n",
      "Epoch 100/500\n",
      "315/315 [==============================] - 0s 194us/sample - loss: 999.7639\n",
      "Epoch 101/500\n",
      "315/315 [==============================] - 0s 232us/sample - loss: 981.5669\n",
      "Epoch 102/500\n",
      "315/315 [==============================] - 0s 216us/sample - loss: 963.6352\n",
      "Epoch 103/500\n",
      "315/315 [==============================] - 0s 203us/sample - loss: 945.2974\n",
      "Epoch 104/500\n",
      "315/315 [==============================] - 0s 219us/sample - loss: 927.2850\n",
      "Epoch 105/500\n",
      "315/315 [==============================] - 0s 225us/sample - loss: 910.0085\n",
      "Epoch 106/500\n",
      "315/315 [==============================] - 0s 216us/sample - loss: 892.7388\n",
      "Epoch 107/500\n",
      "315/315 [==============================] - 0s 219us/sample - loss: 876.5039\n",
      "Epoch 108/500\n",
      "315/315 [==============================] - 0s 229us/sample - loss: 859.2981\n",
      "Epoch 109/500\n",
      "315/315 [==============================] - 0s 219us/sample - loss: 843.2245\n",
      "Epoch 110/500\n",
      "315/315 [==============================] - 0s 232us/sample - loss: 827.1894\n",
      "Epoch 111/500\n",
      "315/315 [==============================] - 0s 229us/sample - loss: 811.2431\n",
      "Epoch 112/500\n",
      "315/315 [==============================] - 0s 219us/sample - loss: 795.6468\n",
      "Epoch 113/500\n",
      "315/315 [==============================] - 0s 225us/sample - loss: 780.4037\n",
      "Epoch 114/500\n",
      "315/315 [==============================] - 0s 222us/sample - loss: 765.1109\n",
      "Epoch 115/500\n",
      "315/315 [==============================] - 0s 222us/sample - loss: 750.2830\n",
      "Epoch 116/500\n",
      "315/315 [==============================] - 0s 305us/sample - loss: 735.5584\n",
      "Epoch 117/500\n",
      "315/315 [==============================] - 0s 251us/sample - loss: 721.0515\n",
      "Epoch 118/500\n",
      "315/315 [==============================] - 0s 225us/sample - loss: 707.3632\n",
      "Epoch 119/500\n",
      "315/315 [==============================] - 0s 222us/sample - loss: 693.5736\n",
      "Epoch 120/500\n",
      "315/315 [==============================] - 0s 213us/sample - loss: 679.5468\n",
      "Epoch 121/500\n",
      "315/315 [==============================] - 0s 210us/sample - loss: 666.1224\n",
      "Epoch 122/500\n",
      "315/315 [==============================] - 0s 232us/sample - loss: 652.5345\n",
      "Epoch 123/500\n",
      "315/315 [==============================] - 0s 225us/sample - loss: 639.7932\n",
      "Epoch 124/500\n",
      "315/315 [==============================] - 0s 210us/sample - loss: 626.4663\n",
      "Epoch 125/500\n",
      "315/315 [==============================] - 0s 219us/sample - loss: 613.8617\n",
      "Epoch 126/500\n",
      "315/315 [==============================] - 0s 241us/sample - loss: 601.6475\n",
      "Epoch 127/500\n",
      "315/315 [==============================] - 0s 213us/sample - loss: 589.1194\n",
      "Epoch 128/500\n",
      "315/315 [==============================] - 0s 232us/sample - loss: 576.9464\n",
      "Epoch 129/500\n",
      "315/315 [==============================] - 0s 232us/sample - loss: 565.2097\n",
      "Epoch 130/500\n",
      "315/315 [==============================] - 0s 238us/sample - loss: 553.2693\n",
      "Epoch 131/500\n",
      "315/315 [==============================] - 0s 216us/sample - loss: 541.6970\n",
      "Epoch 132/500\n",
      "315/315 [==============================] - 0s 206us/sample - loss: 530.5960\n",
      "Epoch 133/500\n",
      "315/315 [==============================] - 0s 225us/sample - loss: 519.7242\n",
      "Epoch 134/500\n",
      "315/315 [==============================] - 0s 213us/sample - loss: 508.4253\n",
      "Epoch 135/500\n",
      "315/315 [==============================] - 0s 219us/sample - loss: 497.7878\n",
      "Epoch 136/500\n",
      "315/315 [==============================] - 0s 225us/sample - loss: 487.1962\n",
      "Epoch 137/500\n",
      "315/315 [==============================] - 0s 225us/sample - loss: 477.0006\n",
      "Epoch 138/500\n",
      "315/315 [==============================] - 0s 216us/sample - loss: 466.7737\n",
      "Epoch 139/500\n",
      "315/315 [==============================] - 0s 232us/sample - loss: 456.3736\n",
      "Epoch 140/500\n",
      "315/315 [==============================] - 0s 238us/sample - loss: 446.5588\n",
      "Epoch 141/500\n",
      "315/315 [==============================] - 0s 216us/sample - loss: 437.1867\n",
      "Epoch 142/500\n",
      "315/315 [==============================] - 0s 213us/sample - loss: 427.6003\n",
      "Epoch 143/500\n",
      "315/315 [==============================] - 0s 235us/sample - loss: 418.0135\n",
      "Epoch 144/500\n",
      "315/315 [==============================] - 0s 206us/sample - loss: 408.9853\n",
      "Epoch 145/500\n",
      "315/315 [==============================] - 0s 203us/sample - loss: 399.5875\n",
      "Epoch 146/500\n",
      "315/315 [==============================] - 0s 219us/sample - loss: 390.6051\n",
      "Epoch 147/500\n",
      "315/315 [==============================] - 0s 229us/sample - loss: 382.0695\n",
      "Epoch 148/500\n",
      "315/315 [==============================] - 0s 216us/sample - loss: 373.6270\n",
      "Epoch 149/500\n",
      "315/315 [==============================] - 0s 219us/sample - loss: 365.2081\n",
      "Epoch 150/500\n",
      "315/315 [==============================] - 0s 232us/sample - loss: 356.4890\n",
      "Epoch 151/500\n",
      "315/315 [==============================] - 0s 203us/sample - loss: 348.4278\n",
      "Epoch 152/500\n",
      "315/315 [==============================] - 0s 210us/sample - loss: 340.1369\n",
      "Epoch 153/500\n",
      "315/315 [==============================] - 0s 225us/sample - loss: 332.3736\n",
      "Epoch 154/500\n",
      "315/315 [==============================] - 0s 251us/sample - loss: 324.5771\n",
      "Epoch 155/500\n",
      "315/315 [==============================] - 0s 232us/sample - loss: 316.8231\n",
      "Epoch 156/500\n",
      "315/315 [==============================] - 0s 216us/sample - loss: 309.7935\n",
      "Epoch 157/500\n",
      "315/315 [==============================] - 0s 222us/sample - loss: 302.3664\n",
      "Epoch 158/500\n",
      "315/315 [==============================] - 0s 225us/sample - loss: 295.4664\n",
      "Epoch 159/500\n",
      "315/315 [==============================] - 0s 225us/sample - loss: 288.1271\n",
      "Epoch 160/500\n",
      "315/315 [==============================] - 0s 210us/sample - loss: 281.4246\n",
      "Epoch 161/500\n",
      "315/315 [==============================] - 0s 235us/sample - loss: 274.4445\n",
      "Epoch 162/500\n",
      "315/315 [==============================] - 0s 225us/sample - loss: 267.6188\n",
      "Epoch 163/500\n",
      "315/315 [==============================] - 0s 225us/sample - loss: 261.2968\n",
      "Epoch 164/500\n",
      "315/315 [==============================] - 0s 238us/sample - loss: 254.5928\n",
      "Epoch 165/500\n",
      "315/315 [==============================] - 0s 222us/sample - loss: 248.3926\n",
      "Epoch 166/500\n",
      "315/315 [==============================] - 0s 222us/sample - loss: 243.0845\n",
      "Epoch 167/500\n",
      "315/315 [==============================] - 0s 225us/sample - loss: 236.2723\n",
      "Epoch 168/500\n",
      "315/315 [==============================] - 0s 229us/sample - loss: 230.1700\n",
      "Epoch 169/500\n",
      "315/315 [==============================] - 0s 219us/sample - loss: 224.4672\n",
      "Epoch 170/500\n",
      "315/315 [==============================] - 0s 222us/sample - loss: 218.6125\n",
      "Epoch 171/500\n",
      "315/315 [==============================] - 0s 229us/sample - loss: 213.1943\n",
      "Epoch 172/500\n",
      "315/315 [==============================] - 0s 222us/sample - loss: 207.7342\n",
      "Epoch 173/500\n",
      "315/315 [==============================] - 0s 238us/sample - loss: 202.4161\n",
      "Epoch 174/500\n",
      "315/315 [==============================] - 0s 213us/sample - loss: 197.4277\n",
      "Epoch 175/500\n",
      "315/315 [==============================] - 0s 229us/sample - loss: 192.5924\n",
      "Epoch 176/500\n",
      "315/315 [==============================] - 0s 216us/sample - loss: 187.5200\n",
      "Epoch 177/500\n",
      "315/315 [==============================] - 0s 213us/sample - loss: 182.4573\n",
      "Epoch 178/500\n",
      "315/315 [==============================] - 0s 219us/sample - loss: 177.9046\n",
      "Epoch 179/500\n",
      "315/315 [==============================] - 0s 200us/sample - loss: 173.0234\n",
      "Epoch 180/500\n",
      "315/315 [==============================] - 0s 213us/sample - loss: 168.4350\n",
      "Epoch 181/500\n",
      "315/315 [==============================] - 0s 222us/sample - loss: 164.1009\n",
      "Epoch 182/500\n",
      "315/315 [==============================] - 0s 232us/sample - loss: 159.5002\n",
      "Epoch 183/500\n"
     ]
    },
    {
     "name": "stdout",
     "output_type": "stream",
     "text": [
      "315/315 [==============================] - 0s 219us/sample - loss: 156.1497\n",
      "Epoch 184/500\n",
      "315/315 [==============================] - 0s 235us/sample - loss: 151.1652\n",
      "Epoch 185/500\n",
      "315/315 [==============================] - 0s 235us/sample - loss: 147.4727\n",
      "Epoch 186/500\n",
      "315/315 [==============================] - 0s 213us/sample - loss: 143.2314\n",
      "Epoch 187/500\n",
      "315/315 [==============================] - 0s 232us/sample - loss: 140.2972\n",
      "Epoch 188/500\n",
      "315/315 [==============================] - 0s 229us/sample - loss: 135.9776\n",
      "Epoch 189/500\n",
      "315/315 [==============================] - 0s 216us/sample - loss: 132.3129\n",
      "Epoch 190/500\n",
      "315/315 [==============================] - 0s 225us/sample - loss: 128.4228\n",
      "Epoch 191/500\n",
      "315/315 [==============================] - 0s 241us/sample - loss: 124.9547\n",
      "Epoch 192/500\n",
      "315/315 [==============================] - 0s 244us/sample - loss: 121.8201\n",
      "Epoch 193/500\n",
      "315/315 [==============================] - 0s 197us/sample - loss: 118.3141\n",
      "Epoch 194/500\n",
      "315/315 [==============================] - 0s 203us/sample - loss: 115.3803\n",
      "Epoch 195/500\n",
      "315/315 [==============================] - 0s 213us/sample - loss: 112.1729\n",
      "Epoch 196/500\n",
      "315/315 [==============================] - 0s 244us/sample - loss: 108.9026\n",
      "Epoch 197/500\n",
      "315/315 [==============================] - 0s 213us/sample - loss: 105.9733\n",
      "Epoch 198/500\n",
      "315/315 [==============================] - 0s 213us/sample - loss: 103.0787\n",
      "Epoch 199/500\n",
      "315/315 [==============================] - 0s 229us/sample - loss: 100.2810\n",
      "Epoch 200/500\n",
      "315/315 [==============================] - 0s 213us/sample - loss: 97.3922\n",
      "Epoch 201/500\n",
      "315/315 [==============================] - 0s 222us/sample - loss: 94.7920\n",
      "Epoch 202/500\n",
      "315/315 [==============================] - 0s 190us/sample - loss: 92.6467\n",
      "Epoch 203/500\n",
      "315/315 [==============================] - 0s 210us/sample - loss: 89.9919\n",
      "Epoch 204/500\n",
      "315/315 [==============================] - 0s 235us/sample - loss: 87.4876\n",
      "Epoch 205/500\n",
      "315/315 [==============================] - 0s 203us/sample - loss: 84.8369\n",
      "Epoch 206/500\n",
      "315/315 [==============================] - 0s 222us/sample - loss: 83.2437\n",
      "Epoch 207/500\n",
      "315/315 [==============================] - 0s 213us/sample - loss: 80.2812\n",
      "Epoch 208/500\n",
      "315/315 [==============================] - 0s 225us/sample - loss: 78.1280\n",
      "Epoch 209/500\n",
      "315/315 [==============================] - 0s 213us/sample - loss: 75.8846\n",
      "Epoch 210/500\n",
      "315/315 [==============================] - 0s 222us/sample - loss: 74.0914\n",
      "Epoch 211/500\n",
      "315/315 [==============================] - 0s 216us/sample - loss: 71.9812\n",
      "Epoch 212/500\n",
      "315/315 [==============================] - 0s 219us/sample - loss: 70.2068\n",
      "Epoch 213/500\n",
      "315/315 [==============================] - 0s 210us/sample - loss: 68.1934\n",
      "Epoch 214/500\n",
      "315/315 [==============================] - 0s 210us/sample - loss: 66.2208\n",
      "Epoch 215/500\n",
      "315/315 [==============================] - 0s 219us/sample - loss: 64.6170\n",
      "Epoch 216/500\n",
      "315/315 [==============================] - 0s 229us/sample - loss: 62.9139\n",
      "Epoch 217/500\n",
      "315/315 [==============================] - 0s 213us/sample - loss: 61.1611\n",
      "Epoch 218/500\n",
      "315/315 [==============================] - 0s 225us/sample - loss: 59.6652\n",
      "Epoch 219/500\n",
      "315/315 [==============================] - 0s 229us/sample - loss: 57.9723\n",
      "Epoch 220/500\n",
      "315/315 [==============================] - 0s 248us/sample - loss: 56.3777\n",
      "Epoch 221/500\n",
      "315/315 [==============================] - 0s 210us/sample - loss: 54.9515\n",
      "Epoch 222/500\n",
      "315/315 [==============================] - 0s 225us/sample - loss: 53.6161\n",
      "Epoch 223/500\n",
      "315/315 [==============================] - 0s 229us/sample - loss: 52.0935 - loss: 54.34\n",
      "Epoch 224/500\n",
      "315/315 [==============================] - 0s 216us/sample - loss: 50.8367\n",
      "Epoch 225/500\n",
      "315/315 [==============================] - 0s 219us/sample - loss: 49.3537\n",
      "Epoch 226/500\n",
      "315/315 [==============================] - 0s 225us/sample - loss: 48.1997\n",
      "Epoch 227/500\n",
      "315/315 [==============================] - 0s 235us/sample - loss: 47.5401\n",
      "Epoch 228/500\n",
      "315/315 [==============================] - 0s 248us/sample - loss: 45.8152\n",
      "Epoch 229/500\n",
      "315/315 [==============================] - 0s 213us/sample - loss: 44.8044\n",
      "Epoch 230/500\n",
      "315/315 [==============================] - 0s 206us/sample - loss: 43.4249\n",
      "Epoch 231/500\n",
      "315/315 [==============================] - 0s 216us/sample - loss: 42.8772\n",
      "Epoch 232/500\n",
      "315/315 [==============================] - 0s 181us/sample - loss: 41.4151\n",
      "Epoch 233/500\n",
      "315/315 [==============================] - 0s 175us/sample - loss: 40.3110\n",
      "Epoch 234/500\n",
      "315/315 [==============================] - 0s 181us/sample - loss: 40.2345\n",
      "Epoch 235/500\n",
      "315/315 [==============================] - 0s 203us/sample - loss: 39.2648\n",
      "Epoch 236/500\n",
      "315/315 [==============================] - 0s 181us/sample - loss: 37.8251\n",
      "Epoch 237/500\n",
      "315/315 [==============================] - 0s 171us/sample - loss: 36.8447\n",
      "Epoch 238/500\n",
      "315/315 [==============================] - 0s 197us/sample - loss: 35.9644\n",
      "Epoch 239/500\n",
      "315/315 [==============================] - 0s 175us/sample - loss: 35.6298\n",
      "Epoch 240/500\n",
      "315/315 [==============================] - 0s 178us/sample - loss: 34.8481\n",
      "Epoch 241/500\n",
      "315/315 [==============================] - 0s 162us/sample - loss: 33.6245\n",
      "Epoch 242/500\n",
      "315/315 [==============================] - 0s 210us/sample - loss: 33.2264\n",
      "Epoch 243/500\n",
      "315/315 [==============================] - 0s 162us/sample - loss: 32.3625\n",
      "Epoch 244/500\n",
      "315/315 [==============================] - 0s 206us/sample - loss: 31.4983\n",
      "Epoch 245/500\n",
      "315/315 [==============================] - 0s 187us/sample - loss: 31.0842\n",
      "Epoch 246/500\n",
      "315/315 [==============================] - 0s 175us/sample - loss: 30.2565\n",
      "Epoch 247/500\n",
      "315/315 [==============================] - 0s 175us/sample - loss: 29.7128\n",
      "Epoch 248/500\n",
      "315/315 [==============================] - 0s 162us/sample - loss: 29.3122\n",
      "Epoch 249/500\n",
      "315/315 [==============================] - 0s 203us/sample - loss: 28.5281\n",
      "Epoch 250/500\n",
      "315/315 [==============================] - 0s 200us/sample - loss: 28.3102\n",
      "Epoch 251/500\n",
      "315/315 [==============================] - 0s 194us/sample - loss: 27.4063\n",
      "Epoch 252/500\n",
      "315/315 [==============================] - 0s 213us/sample - loss: 27.7281\n",
      "Epoch 253/500\n",
      "315/315 [==============================] - 0s 197us/sample - loss: 27.0433\n",
      "Epoch 254/500\n",
      "315/315 [==============================] - 0s 178us/sample - loss: 26.2566\n",
      "Epoch 255/500\n",
      "315/315 [==============================] - 0s 200us/sample - loss: 25.7599\n",
      "Epoch 256/500\n",
      "315/315 [==============================] - 0s 178us/sample - loss: 25.4769\n",
      "Epoch 257/500\n",
      "315/315 [==============================] - 0s 184us/sample - loss: 24.9148\n",
      "Epoch 258/500\n",
      "315/315 [==============================] - 0s 171us/sample - loss: 24.7970\n",
      "Epoch 259/500\n",
      "315/315 [==============================] - 0s 197us/sample - loss: 24.1966\n",
      "Epoch 260/500\n",
      "315/315 [==============================] - 0s 171us/sample - loss: 24.0991\n",
      "Epoch 261/500\n",
      "315/315 [==============================] - 0s 162us/sample - loss: 23.8514\n",
      "Epoch 262/500\n",
      "315/315 [==============================] - 0s 162us/sample - loss: 23.4287\n",
      "Epoch 263/500\n",
      "315/315 [==============================] - 0s 206us/sample - loss: 23.2595\n",
      "Epoch 264/500\n",
      "315/315 [==============================] - 0s 159us/sample - loss: 22.6570\n",
      "Epoch 265/500\n",
      "315/315 [==============================] - 0s 206us/sample - loss: 22.3027\n",
      "Epoch 266/500\n",
      "315/315 [==============================] - 0s 197us/sample - loss: 22.0136\n",
      "Epoch 267/500\n",
      "315/315 [==============================] - 0s 238us/sample - loss: 22.2857\n",
      "Epoch 268/500\n",
      "315/315 [==============================] - 0s 203us/sample - loss: 21.5202\n",
      "Epoch 269/500\n",
      "315/315 [==============================] - 0s 197us/sample - loss: 21.4667\n",
      "Epoch 270/500\n",
      "315/315 [==============================] - 0s 229us/sample - loss: 21.2688\n",
      "Epoch 271/500\n",
      "315/315 [==============================] - 0s 175us/sample - loss: 20.8090\n",
      "Epoch 272/500\n",
      "315/315 [==============================] - 0s 197us/sample - loss: 20.9463\n",
      "Epoch 273/500\n",
      "315/315 [==============================] - 0s 197us/sample - loss: 20.5850\n",
      "Epoch 274/500\n"
     ]
    },
    {
     "name": "stdout",
     "output_type": "stream",
     "text": [
      "315/315 [==============================] - 0s 190us/sample - loss: 20.4526\n",
      "Epoch 275/500\n",
      "315/315 [==============================] - 0s 210us/sample - loss: 20.1185\n",
      "Epoch 276/500\n",
      "315/315 [==============================] - 0s 168us/sample - loss: 20.3690\n",
      "Epoch 277/500\n",
      "315/315 [==============================] - 0s 162us/sample - loss: 20.2417\n",
      "Epoch 278/500\n",
      "315/315 [==============================] - 0s 146us/sample - loss: 19.8249\n",
      "Epoch 279/500\n",
      "315/315 [==============================] - 0s 146us/sample - loss: 19.9567\n",
      "Epoch 280/500\n",
      "315/315 [==============================] - 0s 190us/sample - loss: 19.6616\n",
      "Epoch 281/500\n",
      "315/315 [==============================] - 0s 235us/sample - loss: 19.6146\n",
      "Epoch 282/500\n",
      "315/315 [==============================] - 0s 165us/sample - loss: 19.2405\n",
      "Epoch 283/500\n",
      "315/315 [==============================] - 0s 152us/sample - loss: 19.1578\n",
      "Epoch 284/500\n",
      "315/315 [==============================] - 0s 152us/sample - loss: 19.3110\n",
      "Epoch 285/500\n",
      "315/315 [==============================] - 0s 213us/sample - loss: 19.0001\n",
      "Epoch 286/500\n",
      "315/315 [==============================] - 0s 187us/sample - loss: 18.9251\n",
      "Epoch 287/500\n",
      "315/315 [==============================] - 0s 156us/sample - loss: 18.9581\n",
      "Epoch 288/500\n",
      "315/315 [==============================] - 0s 178us/sample - loss: 19.0211\n",
      "Epoch 289/500\n",
      "315/315 [==============================] - 0s 168us/sample - loss: 18.6476\n",
      "Epoch 290/500\n",
      "315/315 [==============================] - 0s 190us/sample - loss: 18.6577\n",
      "Epoch 291/500\n",
      "315/315 [==============================] - 0s 181us/sample - loss: 18.8714\n",
      "Epoch 292/500\n",
      "315/315 [==============================] - 0s 162us/sample - loss: 18.4904\n",
      "Epoch 293/500\n",
      "315/315 [==============================] - 0s 159us/sample - loss: 18.9737\n",
      "Epoch 294/500\n",
      "315/315 [==============================] - 0s 165us/sample - loss: 18.4179\n",
      "Epoch 295/500\n",
      "315/315 [==============================] - 0s 190us/sample - loss: 18.5100\n",
      "Epoch 296/500\n",
      "315/315 [==============================] - 0s 168us/sample - loss: 19.0191\n",
      "Epoch 297/500\n",
      "315/315 [==============================] - 0s 168us/sample - loss: 18.5009\n",
      "Epoch 298/500\n",
      "315/315 [==============================] - 0s 168us/sample - loss: 18.3128\n",
      "Epoch 299/500\n",
      "315/315 [==============================] - 0s 219us/sample - loss: 18.2141\n",
      "Epoch 300/500\n",
      "315/315 [==============================] - 0s 171us/sample - loss: 18.0821\n",
      "Epoch 301/500\n",
      "315/315 [==============================] - 0s 190us/sample - loss: 17.9659\n",
      "Epoch 302/500\n",
      "315/315 [==============================] - 0s 276us/sample - loss: 18.0566\n",
      "Epoch 303/500\n",
      "315/315 [==============================] - 0s 222us/sample - loss: 18.3223\n",
      "Epoch 304/500\n",
      "315/315 [==============================] - 0s 178us/sample - loss: 18.0243\n",
      "Epoch 305/500\n",
      "315/315 [==============================] - 0s 168us/sample - loss: 17.9182\n",
      "Epoch 306/500\n",
      "315/315 [==============================] - 0s 216us/sample - loss: 18.0183\n",
      "Epoch 307/500\n",
      "315/315 [==============================] - 0s 190us/sample - loss: 18.0044\n",
      "Epoch 308/500\n",
      "315/315 [==============================] - 0s 210us/sample - loss: 18.6621\n",
      "Epoch 309/500\n",
      "315/315 [==============================] - 0s 187us/sample - loss: 17.8005\n",
      "Epoch 310/500\n",
      "315/315 [==============================] - 0s 171us/sample - loss: 17.8054\n",
      "Epoch 311/500\n",
      "315/315 [==============================] - 0s 197us/sample - loss: 18.0512\n",
      "Epoch 312/500\n",
      "315/315 [==============================] - 0s 187us/sample - loss: 18.0121\n",
      "Epoch 313/500\n",
      "315/315 [==============================] - 0s 171us/sample - loss: 17.6062\n",
      "Epoch 314/500\n",
      "315/315 [==============================] - 0s 181us/sample - loss: 17.8925\n",
      "Epoch 315/500\n",
      "315/315 [==============================] - 0s 184us/sample - loss: 18.1368\n",
      "Epoch 316/500\n",
      "315/315 [==============================] - 0s 190us/sample - loss: 18.2830\n",
      "Epoch 317/500\n",
      "315/315 [==============================] - 0s 162us/sample - loss: 17.7782\n",
      "Epoch 318/500\n",
      "315/315 [==============================] - 0s 184us/sample - loss: 17.7642\n",
      "Epoch 319/500\n",
      "315/315 [==============================] - 0s 168us/sample - loss: 17.6784\n",
      "Epoch 320/500\n",
      "315/315 [==============================] - 0s 152us/sample - loss: 17.7433\n",
      "Epoch 321/500\n",
      "315/315 [==============================] - 0s 171us/sample - loss: 17.9247\n",
      "Epoch 322/500\n",
      "315/315 [==============================] - 0s 165us/sample - loss: 17.6936\n",
      "Epoch 323/500\n",
      "315/315 [==============================] - 0s 181us/sample - loss: 17.5980\n",
      "Epoch 324/500\n",
      "315/315 [==============================] - 0s 165us/sample - loss: 17.6093\n",
      "Epoch 325/500\n",
      "315/315 [==============================] - 0s 162us/sample - loss: 18.0059\n",
      "Epoch 326/500\n",
      "315/315 [==============================] - 0s 210us/sample - loss: 17.6908\n",
      "Epoch 327/500\n",
      "315/315 [==============================] - 0s 159us/sample - loss: 17.8386\n",
      "Epoch 328/500\n",
      "315/315 [==============================] - 0s 175us/sample - loss: 17.7878\n",
      "Epoch 329/500\n",
      "315/315 [==============================] - 0s 184us/sample - loss: 17.6721\n",
      "Epoch 330/500\n",
      "315/315 [==============================] - 0s 171us/sample - loss: 17.6047\n",
      "Epoch 331/500\n",
      "315/315 [==============================] - 0s 162us/sample - loss: 17.8556\n",
      "Epoch 332/500\n",
      "315/315 [==============================] - 0s 187us/sample - loss: 18.3320\n",
      "Epoch 333/500\n",
      "315/315 [==============================] - 0s 171us/sample - loss: 18.0222\n",
      "Epoch 334/500\n",
      "315/315 [==============================] - 0s 197us/sample - loss: 17.4994\n",
      "Epoch 335/500\n",
      "315/315 [==============================] - 0s 181us/sample - loss: 17.5718\n",
      "Epoch 336/500\n",
      "315/315 [==============================] - 0s 194us/sample - loss: 18.0351\n",
      "Epoch 337/500\n",
      "315/315 [==============================] - 0s 159us/sample - loss: 18.5051\n",
      "Epoch 338/500\n",
      "315/315 [==============================] - 0s 165us/sample - loss: 17.6862\n",
      "Epoch 339/500\n",
      "315/315 [==============================] - 0s 181us/sample - loss: 17.5586\n",
      "Epoch 340/500\n",
      "315/315 [==============================] - 0s 194us/sample - loss: 17.5335\n",
      "Epoch 341/500\n",
      "315/315 [==============================] - 0s 181us/sample - loss: 17.6101\n",
      "Epoch 342/500\n",
      "315/315 [==============================] - 0s 171us/sample - loss: 17.6117\n",
      "Epoch 343/500\n",
      "315/315 [==============================] - 0s 200us/sample - loss: 17.7764\n",
      "Epoch 344/500\n",
      "315/315 [==============================] - 0s 171us/sample - loss: 17.9554\n",
      "Epoch 345/500\n",
      "315/315 [==============================] - 0s 162us/sample - loss: 17.7534\n",
      "Epoch 346/500\n",
      "315/315 [==============================] - 0s 156us/sample - loss: 17.6577\n",
      "Epoch 347/500\n",
      "315/315 [==============================] - 0s 162us/sample - loss: 17.6065\n",
      "Epoch 348/500\n",
      "315/315 [==============================] - 0s 206us/sample - loss: 17.4169\n",
      "Epoch 349/500\n",
      "315/315 [==============================] - 0s 171us/sample - loss: 17.8467\n",
      "Epoch 350/500\n",
      "315/315 [==============================] - 0s 159us/sample - loss: 17.6006\n",
      "Epoch 351/500\n",
      "315/315 [==============================] - 0s 168us/sample - loss: 17.6416\n",
      "Epoch 352/500\n",
      "315/315 [==============================] - 0s 197us/sample - loss: 17.5930\n",
      "Epoch 353/500\n",
      "315/315 [==============================] - 0s 184us/sample - loss: 17.6276\n",
      "Epoch 354/500\n",
      "315/315 [==============================] - 0s 187us/sample - loss: 17.6054\n",
      "Epoch 355/500\n",
      "315/315 [==============================] - 0s 200us/sample - loss: 17.6876\n",
      "Epoch 356/500\n",
      "315/315 [==============================] - 0s 219us/sample - loss: 17.9608\n",
      "Epoch 357/500\n",
      "315/315 [==============================] - 0s 197us/sample - loss: 17.7186\n",
      "Epoch 358/500\n",
      "315/315 [==============================] - 0s 206us/sample - loss: 17.7896\n",
      "Epoch 359/500\n",
      "315/315 [==============================] - 0s 190us/sample - loss: 17.4969\n",
      "Epoch 360/500\n",
      "315/315 [==============================] - 0s 200us/sample - loss: 17.4693\n",
      "Epoch 361/500\n",
      "315/315 [==============================] - 0s 168us/sample - loss: 17.5941\n",
      "Epoch 362/500\n",
      "315/315 [==============================] - 0s 178us/sample - loss: 17.3954\n",
      "Epoch 363/500\n",
      "315/315 [==============================] - 0s 187us/sample - loss: 17.9368\n",
      "Epoch 364/500\n",
      "315/315 [==============================] - 0s 181us/sample - loss: 17.3649\n",
      "Epoch 365/500\n",
      "315/315 [==============================] - 0s 187us/sample - loss: 17.4793\n",
      "Epoch 366/500\n"
     ]
    },
    {
     "name": "stdout",
     "output_type": "stream",
     "text": [
      "315/315 [==============================] - 0s 194us/sample - loss: 17.4199\n",
      "Epoch 367/500\n",
      "315/315 [==============================] - 0s 213us/sample - loss: 17.4174\n",
      "Epoch 368/500\n",
      "315/315 [==============================] - 0s 197us/sample - loss: 17.4635\n",
      "Epoch 369/500\n",
      "315/315 [==============================] - 0s 197us/sample - loss: 17.6945\n",
      "Epoch 370/500\n",
      "315/315 [==============================] - 0s 162us/sample - loss: 17.4962\n",
      "Epoch 371/500\n",
      "315/315 [==============================] - 0s 156us/sample - loss: 17.4947\n",
      "Epoch 372/500\n",
      "315/315 [==============================] - 0s 149us/sample - loss: 17.4809\n",
      "Epoch 373/500\n",
      "315/315 [==============================] - 0s 146us/sample - loss: 17.6635\n",
      "Epoch 374/500\n",
      "315/315 [==============================] - 0s 152us/sample - loss: 17.5167\n",
      "Epoch 375/500\n",
      "315/315 [==============================] - 0s 171us/sample - loss: 17.2994\n",
      "Epoch 376/500\n",
      "315/315 [==============================] - 0s 162us/sample - loss: 17.7168\n",
      "Epoch 377/500\n",
      "315/315 [==============================] - 0s 165us/sample - loss: 17.7574\n",
      "Epoch 378/500\n",
      "315/315 [==============================] - 0s 178us/sample - loss: 17.7936\n",
      "Epoch 379/500\n",
      "315/315 [==============================] - 0s 190us/sample - loss: 17.8821\n",
      "Epoch 380/500\n",
      "315/315 [==============================] - 0s 197us/sample - loss: 17.6954\n",
      "Epoch 381/500\n",
      "315/315 [==============================] - 0s 168us/sample - loss: 17.7085\n",
      "Epoch 382/500\n",
      "315/315 [==============================] - 0s 156us/sample - loss: 17.4070\n",
      "Epoch 383/500\n",
      "315/315 [==============================] - 0s 156us/sample - loss: 17.7197\n",
      "Epoch 384/500\n",
      "315/315 [==============================] - 0s 152us/sample - loss: 18.5019\n",
      "Epoch 385/500\n",
      "315/315 [==============================] - 0s 159us/sample - loss: 17.5129\n",
      "Epoch 386/500\n",
      "315/315 [==============================] - 0s 171us/sample - loss: 17.5466\n",
      "Epoch 387/500\n",
      "315/315 [==============================] - 0s 181us/sample - loss: 17.7522\n",
      "Epoch 388/500\n",
      "315/315 [==============================] - 0s 149us/sample - loss: 17.4966\n",
      "Epoch 389/500\n",
      "315/315 [==============================] - 0s 171us/sample - loss: 17.9393\n",
      "Epoch 390/500\n",
      "315/315 [==============================] - 0s 175us/sample - loss: 17.3852\n",
      "Epoch 391/500\n",
      "315/315 [==============================] - 0s 165us/sample - loss: 17.3215\n",
      "Epoch 392/500\n",
      "315/315 [==============================] - 0s 168us/sample - loss: 17.7979\n",
      "Epoch 393/500\n",
      "315/315 [==============================] - 0s 181us/sample - loss: 17.3353\n",
      "Epoch 394/500\n",
      "315/315 [==============================] - 0s 216us/sample - loss: 17.4871\n",
      "Epoch 395/500\n",
      "315/315 [==============================] - 0s 184us/sample - loss: 17.3773\n",
      "Epoch 396/500\n",
      "315/315 [==============================] - 0s 171us/sample - loss: 17.7209\n",
      "Epoch 397/500\n",
      "315/315 [==============================] - 0s 162us/sample - loss: 17.4534\n",
      "Epoch 398/500\n",
      "315/315 [==============================] - 0s 159us/sample - loss: 17.8391\n",
      "Epoch 399/500\n",
      "315/315 [==============================] - 0s 181us/sample - loss: 17.6006\n",
      "Epoch 400/500\n",
      "315/315 [==============================] - 0s 181us/sample - loss: 17.4906\n",
      "Epoch 401/500\n",
      "315/315 [==============================] - 0s 181us/sample - loss: 17.8275\n",
      "Epoch 402/500\n",
      "315/315 [==============================] - 0s 168us/sample - loss: 17.3262\n",
      "Epoch 403/500\n",
      "315/315 [==============================] - 0s 175us/sample - loss: 17.6305\n",
      "Epoch 404/500\n",
      "315/315 [==============================] - 0s 187us/sample - loss: 17.7900\n",
      "Epoch 405/500\n",
      "315/315 [==============================] - 0s 197us/sample - loss: 17.4413\n",
      "Epoch 406/500\n",
      "315/315 [==============================] - 0s 190us/sample - loss: 17.5995 - loss: 17.33\n",
      "Epoch 407/500\n",
      "315/315 [==============================] - 0s 190us/sample - loss: 17.4821\n",
      "Epoch 408/500\n",
      "315/315 [==============================] - 0s 187us/sample - loss: 17.3452\n",
      "Epoch 409/500\n",
      "315/315 [==============================] - 0s 162us/sample - loss: 18.2471\n",
      "Epoch 410/500\n",
      "315/315 [==============================] - 0s 162us/sample - loss: 17.9426\n",
      "Epoch 411/500\n",
      "315/315 [==============================] - 0s 181us/sample - loss: 17.3123\n",
      "Epoch 412/500\n",
      "315/315 [==============================] - 0s 171us/sample - loss: 17.3916\n",
      "Epoch 413/500\n",
      "315/315 [==============================] - 0s 156us/sample - loss: 17.5196\n",
      "Epoch 414/500\n",
      "315/315 [==============================] - 0s 187us/sample - loss: 17.4081\n",
      "Epoch 415/500\n",
      "315/315 [==============================] - 0s 165us/sample - loss: 17.3846\n",
      "Epoch 416/500\n",
      "315/315 [==============================] - 0s 159us/sample - loss: 17.6682\n",
      "Epoch 417/500\n",
      "315/315 [==============================] - 0s 194us/sample - loss: 17.6578\n",
      "Epoch 418/500\n",
      "315/315 [==============================] - 0s 165us/sample - loss: 17.7081\n",
      "Epoch 419/500\n",
      "315/315 [==============================] - 0s 162us/sample - loss: 17.5140\n",
      "Epoch 420/500\n",
      "315/315 [==============================] - 0s 181us/sample - loss: 17.4436\n",
      "Epoch 421/500\n",
      "315/315 [==============================] - 0s 213us/sample - loss: 18.1050\n",
      "Epoch 422/500\n",
      "315/315 [==============================] - 0s 200us/sample - loss: 17.4657\n",
      "Epoch 423/500\n",
      "315/315 [==============================] - 0s 184us/sample - loss: 17.5228\n",
      "Epoch 424/500\n",
      "315/315 [==============================] - 0s 187us/sample - loss: 17.5368\n",
      "Epoch 425/500\n",
      "315/315 [==============================] - 0s 168us/sample - loss: 17.5548\n",
      "Epoch 426/500\n",
      "315/315 [==============================] - 0s 168us/sample - loss: 17.4385\n",
      "Epoch 427/500\n",
      "315/315 [==============================] - 0s 168us/sample - loss: 17.5289\n",
      "Epoch 428/500\n",
      "315/315 [==============================] - 0s 190us/sample - loss: 17.4569\n",
      "Epoch 429/500\n",
      "315/315 [==============================] - 0s 165us/sample - loss: 17.4607\n",
      "Epoch 430/500\n",
      "315/315 [==============================] - 0s 156us/sample - loss: 17.6263\n",
      "Epoch 431/500\n",
      "315/315 [==============================] - 0s 168us/sample - loss: 17.4255\n",
      "Epoch 432/500\n",
      "315/315 [==============================] - 0s 165us/sample - loss: 17.5795\n",
      "Epoch 433/500\n",
      "315/315 [==============================] - 0s 181us/sample - loss: 17.6530\n",
      "Epoch 434/500\n",
      "315/315 [==============================] - 0s 165us/sample - loss: 17.5912\n",
      "Epoch 435/500\n",
      "315/315 [==============================] - 0s 168us/sample - loss: 17.4794\n",
      "Epoch 436/500\n",
      "315/315 [==============================] - 0s 184us/sample - loss: 17.4353\n",
      "Epoch 437/500\n",
      "315/315 [==============================] - 0s 178us/sample - loss: 17.3970\n",
      "Epoch 438/500\n",
      "315/315 [==============================] - 0s 171us/sample - loss: 17.4167\n",
      "Epoch 439/500\n",
      "315/315 [==============================] - 0s 162us/sample - loss: 17.3035\n",
      "Epoch 440/500\n",
      "315/315 [==============================] - 0s 187us/sample - loss: 17.4218\n",
      "Epoch 441/500\n",
      "315/315 [==============================] - 0s 168us/sample - loss: 17.5556\n",
      "Epoch 442/500\n",
      "315/315 [==============================] - 0s 197us/sample - loss: 17.3102\n",
      "Epoch 443/500\n",
      "315/315 [==============================] - 0s 175us/sample - loss: 17.7292\n",
      "Epoch 444/500\n",
      "315/315 [==============================] - 0s 181us/sample - loss: 17.3533\n",
      "Epoch 445/500\n",
      "315/315 [==============================] - 0s 168us/sample - loss: 17.4000\n",
      "Epoch 446/500\n",
      "315/315 [==============================] - 0s 200us/sample - loss: 17.1662\n",
      "Epoch 447/500\n",
      "315/315 [==============================] - 0s 206us/sample - loss: 17.4000\n",
      "Epoch 448/500\n",
      "315/315 [==============================] - 0s 168us/sample - loss: 17.7443\n",
      "Epoch 449/500\n",
      "315/315 [==============================] - 0s 168us/sample - loss: 17.5038\n",
      "Epoch 450/500\n",
      "315/315 [==============================] - 0s 194us/sample - loss: 17.3248\n",
      "Epoch 451/500\n",
      "315/315 [==============================] - 0s 181us/sample - loss: 17.3556\n",
      "Epoch 452/500\n",
      "315/315 [==============================] - 0s 168us/sample - loss: 17.6864\n",
      "Epoch 453/500\n",
      "315/315 [==============================] - 0s 159us/sample - loss: 17.4623\n",
      "Epoch 454/500\n",
      "315/315 [==============================] - 0s 194us/sample - loss: 18.1463\n",
      "Epoch 455/500\n",
      "315/315 [==============================] - 0s 206us/sample - loss: 18.0378\n",
      "Epoch 456/500\n",
      "315/315 [==============================] - 0s 200us/sample - loss: 17.7924\n",
      "Epoch 457/500\n",
      "315/315 [==============================] - 0s 187us/sample - loss: 17.4578\n",
      "Epoch 458/500\n"
     ]
    },
    {
     "name": "stdout",
     "output_type": "stream",
     "text": [
      "315/315 [==============================] - 0s 159us/sample - loss: 17.5050\n",
      "Epoch 459/500\n",
      "315/315 [==============================] - 0s 200us/sample - loss: 17.8393\n",
      "Epoch 460/500\n",
      "315/315 [==============================] - 0s 216us/sample - loss: 17.5283\n",
      "Epoch 461/500\n",
      "315/315 [==============================] - 0s 165us/sample - loss: 17.4269\n",
      "Epoch 462/500\n",
      "315/315 [==============================] - 0s 149us/sample - loss: 17.3687\n",
      "Epoch 463/500\n",
      "315/315 [==============================] - 0s 156us/sample - loss: 17.6000\n",
      "Epoch 464/500\n",
      "315/315 [==============================] - 0s 216us/sample - loss: 17.5748\n",
      "Epoch 465/500\n",
      "315/315 [==============================] - 0s 219us/sample - loss: 17.4606\n",
      "Epoch 466/500\n",
      "315/315 [==============================] - 0s 235us/sample - loss: 17.6169\n",
      "Epoch 467/500\n",
      "315/315 [==============================] - 0s 216us/sample - loss: 17.4571\n",
      "Epoch 468/500\n",
      "315/315 [==============================] - 0s 210us/sample - loss: 17.5161\n",
      "Epoch 469/500\n",
      "315/315 [==============================] - 0s 162us/sample - loss: 17.2344\n",
      "Epoch 470/500\n",
      "315/315 [==============================] - 0s 171us/sample - loss: 17.4211\n",
      "Epoch 471/500\n",
      "315/315 [==============================] - 0s 149us/sample - loss: 17.3475\n",
      "Epoch 472/500\n",
      "315/315 [==============================] - 0s 162us/sample - loss: 17.5976\n",
      "Epoch 473/500\n",
      "315/315 [==============================] - 0s 159us/sample - loss: 17.7286\n",
      "Epoch 474/500\n",
      "315/315 [==============================] - 0s 156us/sample - loss: 17.5551\n",
      "Epoch 475/500\n",
      "315/315 [==============================] - 0s 165us/sample - loss: 17.4276\n",
      "Epoch 476/500\n",
      "315/315 [==============================] - 0s 181us/sample - loss: 17.4282\n",
      "Epoch 477/500\n",
      "315/315 [==============================] - 0s 165us/sample - loss: 17.7842\n",
      "Epoch 478/500\n",
      "315/315 [==============================] - 0s 181us/sample - loss: 17.4192\n",
      "Epoch 479/500\n",
      "315/315 [==============================] - 0s 165us/sample - loss: 17.4948\n",
      "Epoch 480/500\n",
      "315/315 [==============================] - 0s 175us/sample - loss: 17.4932\n",
      "Epoch 481/500\n",
      "315/315 [==============================] - 0s 197us/sample - loss: 17.3601\n",
      "Epoch 482/500\n",
      "315/315 [==============================] - 0s 175us/sample - loss: 17.2331\n",
      "Epoch 483/500\n",
      "315/315 [==============================] - 0s 190us/sample - loss: 17.4579\n",
      "Epoch 484/500\n",
      "315/315 [==============================] - 0s 152us/sample - loss: 17.5691\n",
      "Epoch 485/500\n",
      "315/315 [==============================] - 0s 178us/sample - loss: 17.5767\n",
      "Epoch 486/500\n",
      "315/315 [==============================] - 0s 187us/sample - loss: 17.5094\n",
      "Epoch 487/500\n",
      "315/315 [==============================] - 0s 171us/sample - loss: 17.3227\n",
      "Epoch 488/500\n",
      "315/315 [==============================] - 0s 165us/sample - loss: 17.5871\n",
      "Epoch 489/500\n",
      "315/315 [==============================] - 0s 206us/sample - loss: 17.3401\n",
      "Epoch 490/500\n",
      "315/315 [==============================] - 0s 197us/sample - loss: 17.8903\n",
      "Epoch 491/500\n",
      "315/315 [==============================] - 0s 187us/sample - loss: 17.6277\n",
      "Epoch 492/500\n",
      "315/315 [==============================] - 0s 156us/sample - loss: 17.3482\n",
      "Epoch 493/500\n",
      "315/315 [==============================] - 0s 178us/sample - loss: 17.3736\n",
      "Epoch 494/500\n",
      "315/315 [==============================] - 0s 168us/sample - loss: 17.5335\n",
      "Epoch 495/500\n",
      "315/315 [==============================] - 0s 168us/sample - loss: 17.6620\n",
      "Epoch 496/500\n",
      "315/315 [==============================] - 0s 165us/sample - loss: 17.4314\n",
      "Epoch 497/500\n",
      "315/315 [==============================] - 0s 162us/sample - loss: 17.2818\n",
      "Epoch 498/500\n",
      "315/315 [==============================] - 0s 171us/sample - loss: 17.2166\n",
      "Epoch 499/500\n",
      "315/315 [==============================] - 0s 190us/sample - loss: 17.6221\n",
      "Epoch 500/500\n",
      "315/315 [==============================] - 0s 165us/sample - loss: 17.3974\n"
     ]
    },
    {
     "data": {
      "text/plain": [
       "<tensorflow.python.keras.callbacks.History at 0x22544aa6788>"
      ]
     },
     "execution_count": 45,
     "metadata": {},
     "output_type": "execute_result"
    }
   ],
   "source": [
    "# fit the keras model on the dataset\n",
    "m3.fit(speed_train, power_train, epochs=500, batch_size=10)"
   ]
  },
  {
   "cell_type": "markdown",
   "metadata": {},
   "source": [
    "#### Check model prediction"
   ]
  },
  {
   "cell_type": "code",
   "execution_count": 46,
   "metadata": {},
   "outputs": [
    {
     "name": "stdout",
     "output_type": "stream",
     "text": [
      "For wind speed [[6.982]] actual power is: [[4.187]]\n",
      "For wind speed [[6.982]] predicted power is: [[6.836359]]\n",
      "\n",
      "For wind speed [[9.885]] actual power is: [[27.136]]\n",
      "For wind speed [[9.885]] predicted power is: [[17.98528]]\n",
      "\n",
      "For wind speed [[11.737]] actual power is: [[38.552]]\n",
      "For wind speed [[11.737]] predicted power is: [[37.892933]]\n",
      "\n",
      "For wind speed [[7.733]] actual power is: [[4.443]]\n",
      "For wind speed [[7.733]] predicted power is: [[8.299347]]\n",
      "\n"
     ]
    }
   ],
   "source": [
    "for i in range (4):\n",
    "    index = np.random.choice(speed_train.shape[0], 1, replace=False)\n",
    "    s = speed_train[index]\n",
    "    p = power_train[index]\n",
    "    print(f\"For wind speed {s} actual power is: {p}\")\n",
    "    print(f\"For wind speed {s} predicted power is: {m3.predict(s)}\\n\")"
   ]
  },
  {
   "cell_type": "markdown",
   "metadata": {},
   "source": [
    "#### Visualize data"
   ]
  },
  {
   "cell_type": "code",
   "execution_count": 48,
   "metadata": {},
   "outputs": [
    {
     "data": {
      "image/png": "[encoded data removed]",
      "text/plain": [
       "<Figure size 1152x576 with 1 Axes>"
      ]
     },
     "metadata": {
      "needs_background": "light"
     },
     "output_type": "display_data"
    }
   ],
   "source": [
    "# Prediction on the training data visualization\n",
    "# Define chart size\n",
    "plt.figure(figsize=(16,8))\n",
    "# Add grid lines\n",
    "plt.grid(True)\n",
    "# Add title to the chart\n",
    "plt.title(\"Neuron Networks Preditions - Training Data\", fontweight=\"bold\", fontsize=20)\n",
    "# # Add x lable to the chart\n",
    "plt.xlabel('Speed', size=16)\n",
    "# Add y lable to the chart\n",
    "plt.ylabel('Power', size=16)\n",
    "# Plot and show data \n",
    "plt.plot(speed_train, power_train, '.g', label='Trianing data')\n",
    "plt.plot(speed_train, m3.predict(speed_train), 'r.', label='Model prediction')\n",
    "plt.legend(loc='best')\n",
    "plt.show()"
   ]
  },
  {
   "cell_type": "code",
   "execution_count": 50,
   "metadata": {},
   "outputs": [
    {
     "data": {
      "image/png": "[encoded data removed]",
      "text/plain": [
       "<Figure size 1152x576 with 1 Axes>"
      ]
     },
     "metadata": {
      "needs_background": "light"
     },
     "output_type": "display_data"
    }
   ],
   "source": [
    "# Prediction on the test data visualization\n",
    "# Define chart size\n",
    "plt.figure(figsize=(16,8))\n",
    "# Add grid lines\n",
    "plt.grid(True)\n",
    "# Add title to the chart\n",
    "plt.title(\"Neuron Networks Preditions - Testing Data\", fontweight=\"bold\", fontsize=20)\n",
    "# # Add x lable to the chart\n",
    "plt.xlabel('Speed', size=16)\n",
    "# Add y lable to the chart\n",
    "plt.ylabel('Power', size=16)\n",
    "# Plot and show data \n",
    "plt.plot(speed_test, power_test, '.g', label='Testing data')\n",
    "plt.plot(speed_test, m3.predict(speed_test), 'r.', label='Model prediction')\n",
    "plt.legend(loc='best')\n",
    "plt.show()"
   ]
  },
  {
   "cell_type": "markdown",
   "metadata": {},
   "source": [
    "#### Error evaluation"
   ]
  },
  {
   "cell_type": "code",
   "execution_count": 51,
   "metadata": {},
   "outputs": [
    {
     "name": "stdout",
     "output_type": "stream",
     "text": [
      "Model: \"sequential\"\n",
      "_________________________________________________________________\n",
      "Layer (type)                 Output Shape              Param #   \n",
      "=================================================================\n",
      "dense (Dense)                (None, 10)                20        \n",
      "_________________________________________________________________\n",
      "dense_1 (Dense)              (None, 20)                220       \n",
      "_________________________________________________________________\n",
      "dense_2 (Dense)              (None, 1)                 21        \n",
      "=================================================================\n",
      "Total params: 261\n",
      "Trainable params: 261\n",
      "Non-trainable params: 0\n",
      "_________________________________________________________________\n"
     ]
    }
   ],
   "source": [
    "# Summary of the model\n",
    "m3.summary()"
   ]
  },
  {
   "cell_type": "code",
   "execution_count": 52,
   "metadata": {},
   "outputs": [
    {
     "name": "stdout",
     "output_type": "stream",
     "text": [
      "136/136 [==============================] - 0s 309us/sample - loss: 14.9810\n"
     ]
    },
    {
     "data": {
      "text/plain": [
       "14.981042413150563"
      ]
     },
     "execution_count": 52,
     "metadata": {},
     "output_type": "execute_result"
    }
   ],
   "source": [
    "# Evaluate model\n",
    "m3.evaluate(speed_test, power_test)"
   ]
  },
  {
   "cell_type": "code",
   "execution_count": 53,
   "metadata": {},
   "outputs": [
    {
     "name": "stdout",
     "output_type": "stream",
     "text": [
      "\n",
      "Testing Data\n",
      "RMSE: 3.87\n",
      "R-squared: 0.99\n"
     ]
    }
   ],
   "source": [
    "# Calculate and display RMSE and R2\n",
    "print(\"\\nTesting Data\")\n",
    "print(\"RMSE: %.2f\"% np.sqrt(mean_squared_error(power_test, m3.predict(speed_test))))\n",
    "print(\"R-squared: %.2f\"% r2_score(power_test, m3.predict(speed_test)))"
   ]
  },
  {
   "cell_type": "markdown",
   "metadata": {},
   "source": []
  },
  {
   "cell_type": "code",
   "execution_count": null,
   "metadata": {},
   "outputs": [],
   "source": []
  },
  {
   "cell_type": "code",
   "execution_count": null,
   "metadata": {},
   "outputs": [],
   "source": []
  },
  {
   "cell_type": "code",
   "execution_count": null,
   "metadata": {},
   "outputs": [],
   "source": []
  },
  {
   "cell_type": "code",
   "execution_count": null,
   "metadata": {},
   "outputs": [],
   "source": []
  },
  {
   "cell_type": "code",
   "execution_count": null,
   "metadata": {},
   "outputs": [],
   "source": []
  },
  {
   "cell_type": "code",
   "execution_count": null,
   "metadata": {},
   "outputs": [],
   "source": []
  },
  {
   "cell_type": "code",
   "execution_count": null,
   "metadata": {},
   "outputs": [],
   "source": []
  },
  {
   "cell_type": "code",
   "execution_count": null,
   "metadata": {},
   "outputs": [],
   "source": []
  },
  {
   "cell_type": "markdown",
   "metadata": {},
   "source": [
    "## Summary and Conclusions<a id=\"summary\"/>"
   ]
  },
  {
   "cell_type": "markdown",
   "metadata": {},
   "source": [
    "## References<a id=\"references\"/>"
   ]
  },
  {
   "cell_type": "markdown",
   "metadata": {},
   "source": [
    "1. [R. J. Barthelmie, F. Murray, and S. C. Pryor, “The economic benefit of short-term forecasting for wind energy in the UK electricity market,” Energy Policy, vol. 36, no. 5, pp. 1687–1696, 2008.](https://www.hindawi.com/journals/cin/2020/8439719/#B3)[viewed 4th Dec 2020]\n",
    "1. [Y.-K. Wu and H. Jing-Shan, A Literature Review of Wind Forecasting Technology in the World, IEEE Lausanne Powertech, Lausanne, Switzerland, 2007.](https://www.hindawi.com/journals/cin/2020/8439719/#B4)[viewed 4th Dec 2020]\n",
    "1. [Good Energy - Wind Turbines](https://www.goodenergy.co.uk/how-do-wind-turbines-work/)[viewed 4th Dec 2020]\n",
    "1. [Wikipedia - Wind Power - Floating Point Arithmetic: Issues and Limitations](https://en.wikipedia.org/wiki/Wind_power)[viewed 5th Dec 2020]\n",
    "1. [Npower - Wind Turbine Power Calculations](https://www.raeng.org.uk/publications/other/23-wind-turbine)[viewed 5th Dec 2020]\n",
    "1. [NI - Wind Turbine Control Methods](https://www.ni.com/en-ie/innovations/white-papers/08/wind-turbine-control-methods.html)[viewed 5th Dec 2020]\n",
    "1. [Medium - Data Preparation](https://medium.com/@prtk13061992/data-preprocessing-steps-in-python-for-any-machine-learning-algorithm-2d52b57fa098)[viewed 27th Dec 2020]\n",
    "1. [GeeksforGeeks - Data Preprocessing for Machine learning in Python](https://www.geeksforgeeks.org/data-preprocessing-machine-learning-python/)[viewed 27th Dec 2020]\n",
    "1. [GeeksforGeeks - Python | Implementation of Polynomial Regression](https://www.geeksforgeeks.org/python-implementation-of-polynomial-regression/)[viewed 28th Dec 2020]\n"
   ]
  }
 ],
 "metadata": {
  "kernelspec": {
   "display_name": "Python 3",
   "language": "python",
   "name": "python3"
  },
  "language_info": {
   "codemirror_mode": {
    "name": "ipython",
    "version": 3
   },
   "file_extension": ".py",
   "mimetype": "text/x-python",
   "name": "python",
   "nbconvert_exporter": "python",
   "pygments_lexer": "ipython3",
   "version": "3.7.9"
  }
 },
 "nbformat": 4,
 "nbformat_minor": 4
}
