{
 "cells": [
  {
   "cell_type": "markdown",
   "metadata": {},
   "source": [
    "# Machine Learning and Statistic Project 2020\n",
    "## Renewable Energy Sources - Prediction of Wind Turbine Power Production"
   ]
  },
  {
   "cell_type": "markdown",
   "metadata": {},
   "source": [
    "* Student Name: **Maciej Burel**\n",
    "* Student ID: G00376332\n",
    "* Lecturer: Dr. Ian McLoughlin"
   ]
  },
  {
   "cell_type": "markdown",
   "metadata": {},
   "source": [
    "***\n",
    "\n",
    "<p align=\"center\"> <img width=\"500\" height=\"400\" src=\"Images/w2.jpg\" alt=\"root\" /> </p>\n",
    "(Image - Wharton, 2015)"
   ]
  },
  {
   "cell_type": "markdown",
   "metadata": {},
   "source": [
    "##  Table of Contents<a id=\"table\"/>\n",
    "***\n",
    "\n",
    "* [Goals and objectives](#goals)\n",
    "* [Introduction](#introduction)\n",
    "* [](#task2)\n",
    "* [](#task3)\n",
    "* [ ](#task4)\n",
    "* [References](#references)"
   ]
  },
  {
   "cell_type": "markdown",
   "metadata": {},
   "source": [
    "## Goals and objectives<a id=\"goals\"/>\n",
    "***"
   ]
  },
  {
   "cell_type": "markdown",
   "metadata": {},
   "source": [
    "* The goal of this project is to produce a model that accurately predicts wind turbine power output from wind speed values, as in the data set powerproduction.csv.\n",
    "* The part of the project is to create a web service that will respond with predicted power values based on speed values sent as HTTP requests.\n",
    "* Research and investigations about wind energy production \n",
    "* Solution and approaching for project task\n",
    "* Implementation and presentation of the project results \n",
    "* Final project should contain following elements:\n",
    "    * Jupyter notebook that trains a model using the data set. In the notebook, it should be explained the model and an analysis of its accuracy.\n",
    "    * Python script that runs a web service based on the model, as above.\n",
    "    * Dockerfile to build and run the web service in a container."
   ]
  },
  {
   "cell_type": "markdown",
   "metadata": {},
   "source": [
    "## Introduction<a id=\"introduction\"/>\n",
    "***"
   ]
  },
  {
   "cell_type": "markdown",
   "metadata": {},
   "source": [
    "### Wind energy production"
   ]
  },
  {
   "cell_type": "markdown",
   "metadata": {},
   "source": [
    "The need to move towards renewable and clean energy sources has increased considerably over the previous years.\n",
    "As the demand for wind power has increased over the last decades, there is a serious need to set up wind farms and construct facilities depending on accurate wind forecasted data. Collected short-term wind forecasting has a significant effect on the electricity [1], which is also necessary to identify the size of wind farms.\n",
    "\n",
    "It is obvious that there is a need for an accurate wind forecasting technique to substantially reduce the cost by wind power scheduling [2]. "
   ]
  },
  {
   "cell_type": "markdown",
   "metadata": {},
   "source": [
    "### How Do Wind Turbines Work?"
   ]
  },
  {
   "cell_type": "markdown",
   "metadata": {},
   "source": [
    "Wind turbine blades rotate when hit by the wind. And this doesn’t have to be a strong wind, either: the blades of most turbines will start turning at a wind speed of 3-5 meters per second, which is a gentle breeze.  \n",
    "\n",
    "It’s this spinning motion that turns a shaft in the nacelle – which is the box-like structure at the top of a wind turbine. A generator built into the nacelle then converts the kinetic energy of the turning shaft into electrical energy. This then passes through a transformer, which steps up the voltage so it can be transported on the National Grid or used by a local site.\n",
    "\n",
    "<p align=\"center\"> <img width=\"500\" height=\"400\" src=\"Images/w3.jpg\" alt=\"root\" /> </p>\n",
    "(Image - Futuren, 2019)\n",
    "\n",
    "Most onshore wind turbines have a capacity of 2-3 megawatts (MW), which can produce over 6 million kilowatt hours (kwh) of electricity every year. That’s enough to meet the electricity demand of around 1,500 average households.\n",
    "\n",
    "Up to a certain level, the faster the wind blows, the more electricity is generated. In fact, when the wind speed doubles, up to eight times more electricity is generated. But if the wind is too strong, turbines will shut themselves down to prevent being damaged.\n",
    "\n",
    "A wind turbine is typically 30-45% efficient – rising to 50% efficient at times of peak wind. If that sounds low to you, remember that if turbines were 100% efficient, the wind would completely drop after going through the turbine.[3]"
   ]
  },
  {
   "cell_type": "markdown",
   "metadata": {},
   "source": [
    "### Wind Power Calculation"
   ]
  },
  {
   "cell_type": "markdown",
   "metadata": {},
   "source": []
  },
  {
   "cell_type": "markdown",
   "metadata": {},
   "source": []
  },
  {
   "cell_type": "markdown",
   "metadata": {},
   "source": []
  },
  {
   "cell_type": "markdown",
   "metadata": {},
   "source": []
  },
  {
   "cell_type": "markdown",
   "metadata": {},
   "source": []
  },
  {
   "cell_type": "markdown",
   "metadata": {},
   "source": []
  },
  {
   "cell_type": "markdown",
   "metadata": {},
   "source": []
  },
  {
   "cell_type": "markdown",
   "metadata": {},
   "source": [
    "## Summary and Conclusions<a id=\"summary\"/>"
   ]
  },
  {
   "cell_type": "markdown",
   "metadata": {},
   "source": [
    "## References<a id=\"references\"/>"
   ]
  },
  {
   "cell_type": "markdown",
   "metadata": {},
   "source": [
    "1. [R. J. Barthelmie, F. Murray, and S. C. Pryor, “The economic benefit of short-term forecasting for wind energy in the UK electricity market,” Energy Policy, vol. 36, no. 5, pp. 1687–1696, 2008.](https://www.hindawi.com/journals/cin/2020/8439719/#B3)[viewed 4th Dec 2020]\n",
    "1. [Y.-K. Wu and H. Jing-Shan, A Literature Review of Wind Forecasting Technology in the World, IEEE Lausanne Powertech, Lausanne, Switzerland, 2007.](https://www.hindawi.com/journals/cin/2020/8439719/#B4)[viewed 4th Dec 2020]\n",
    "1. [Good Energy - Wind Turbines](https://www.goodenergy.co.uk/how-do-wind-turbines-work/)[viewed 4th Dec 2020]\n"
   ]
  }
 ],
 "metadata": {
  "kernelspec": {
   "display_name": "Python 3",
   "language": "python",
   "name": "python3"
  },
  "language_info": {
   "codemirror_mode": {
    "name": "ipython",
    "version": 3
   },
   "file_extension": ".py",
   "mimetype": "text/x-python",
   "name": "python",
   "nbconvert_exporter": "python",
   "pygments_lexer": "ipython3",
   "version": "3.7.9"
  }
 },
 "nbformat": 4,
 "nbformat_minor": 4
}
